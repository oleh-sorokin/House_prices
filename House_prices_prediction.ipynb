{
 "cells": [
  {
   "cell_type": "markdown",
   "metadata": {
    "collapsed": true
   },
   "source": [
    "# House prices prediction\n"
   ]
  },
  {
   "cell_type": "code",
   "execution_count": 314,
   "metadata": {},
   "outputs": [
    {
     "name": "stdout",
     "output_type": "stream",
     "text": [
      "Libraries successfully imported\n"
     ]
    }
   ],
   "source": [
    "#Libraries import\n",
    "import numpy as np\n",
    "import seaborn as sns\n",
    "import pandas as pd\n",
    "import matplotlib.pyplot as plt\n",
    "%matplotlib inline \n",
    "sns.set(color_codes=True)\n",
    "pd.set_option('display.max_columns',None)\n",
    "print('Libraries successfully imported')"
   ]
  },
  {
   "cell_type": "code",
   "execution_count": 315,
   "metadata": {},
   "outputs": [],
   "source": [
    "#importing the data\n",
    "data = pd.read_csv('data.csv')"
   ]
  },
  {
   "cell_type": "code",
   "execution_count": 316,
   "metadata": {},
   "outputs": [
    {
     "name": "stdout",
     "output_type": "stream",
     "text": [
      "SHAPE OF THE DATA\n",
      "(4600, 18)\n",
      "\n",
      "\n",
      "COLUMN NAMES\n",
      "Index(['date', 'price', 'bedrooms', 'bathrooms', 'sqft_living', 'sqft_lot',\n",
      "       'floors', 'waterfront', 'view', 'condition', 'sqft_above',\n",
      "       'sqft_basement', 'yr_built', 'yr_renovated', 'street', 'city',\n",
      "       'statezip', 'country'],\n",
      "      dtype='object')\n"
     ]
    }
   ],
   "source": [
    "#EDA\n",
    "print('SHAPE OF THE DATA')\n",
    "print(data.shape)\n",
    "print('\\n')\n",
    "print('COLUMN NAMES')\n",
    "print(data.columns)"
   ]
  },
  {
   "cell_type": "code",
   "execution_count": 317,
   "metadata": {},
   "outputs": [
    {
     "name": "stdout",
     "output_type": "stream",
     "text": [
      "5 FIRST ROWS\n",
      "                  date      price  bedrooms  bathrooms  sqft_living  sqft_lot  \\\n",
      "0  2014-05-02 00:00:00   313000.0       3.0       1.50         1340      7912   \n",
      "1  2014-05-02 00:00:00  2384000.0       5.0       2.50         3650      9050   \n",
      "2  2014-05-02 00:00:00   342000.0       3.0       2.00         1930     11947   \n",
      "3  2014-05-02 00:00:00   420000.0       3.0       2.25         2000      8030   \n",
      "4  2014-05-02 00:00:00   550000.0       4.0       2.50         1940     10500   \n",
      "\n",
      "   floors  waterfront  view  condition  sqft_above  sqft_basement  yr_built  \\\n",
      "0     1.5           0     0          3        1340              0      1955   \n",
      "1     2.0           0     4          5        3370            280      1921   \n",
      "2     1.0           0     0          4        1930              0      1966   \n",
      "3     1.0           0     0          4        1000           1000      1963   \n",
      "4     1.0           0     0          4        1140            800      1976   \n",
      "\n",
      "   yr_renovated                    street       city  statezip country  \n",
      "0          2005      18810 Densmore Ave N  Shoreline  WA 98133     USA  \n",
      "1             0           709 W Blaine St    Seattle  WA 98119     USA  \n",
      "2             0  26206-26214 143rd Ave SE       Kent  WA 98042     USA  \n",
      "3             0           857 170th Pl NE   Bellevue  WA 98008     USA  \n",
      "4          1992         9105 170th Ave NE    Redmond  WA 98052     USA  \n",
      "\n",
      "\n",
      "\n",
      "\n",
      "RANDOM SAMPLE\n",
      "                     date     price  bedrooms  bathrooms  sqft_living  \\\n",
      "4520  2014-06-20 00:00:00       0.0       4.0       2.50         1960   \n",
      "4022  2014-07-07 00:00:00  631500.0       4.0       2.00         2530   \n",
      "4133  2014-07-08 00:00:00  599000.0       3.0       2.00         2560   \n",
      "3672  2014-06-30 00:00:00  255000.0       2.0       1.00         1320   \n",
      "2890  2014-06-19 00:00:00  275000.0       3.0       1.75         1860   \n",
      "\n",
      "      sqft_lot  floors  waterfront  view  condition  sqft_above  \\\n",
      "4520     11600     1.0           0     0          5         980   \n",
      "4022      5650     1.5           0     0          4        1910   \n",
      "4133     14680     1.0           0     0          3        1330   \n",
      "3672      9967     1.0           0     0          3         940   \n",
      "2890     15681     1.0           0     0          4        1860   \n",
      "\n",
      "      sqft_basement  yr_built  yr_renovated                            street  \\\n",
      "4520            980      1931             0                    506 21st St SE   \n",
      "4022            620      1910             0        2900-2998 Fairmount Ave SW   \n",
      "4133           1230      1987          2000                  16604 NE 42nd Ct   \n",
      "3672            380      1919          2001  3822 Martin Luther King Jr Way S   \n",
      "2890              0      1971             0                   304 SW 316th St   \n",
      "\n",
      "             city  statezip country  \n",
      "4520       Auburn  WA 98002     USA  \n",
      "4022      Seattle  WA 98116     USA  \n",
      "4133      Redmond  WA 98052     USA  \n",
      "3672      Seattle  WA 98108     USA  \n",
      "2890  Federal Way  WA 98023     USA  \n"
     ]
    }
   ],
   "source": [
    "#EDA 2\n",
    "print('5 FIRST ROWS')\n",
    "print(data.head())\n",
    "print('\\n' * 3)\n",
    "print('RANDOM SAMPLE')\n",
    "print(data.sample(n=5))"
   ]
  },
  {
   "cell_type": "code",
   "execution_count": 318,
   "metadata": {},
   "outputs": [
    {
     "name": "stdout",
     "output_type": "stream",
     "text": [
      "INFORMATION\n",
      "<class 'pandas.core.frame.DataFrame'>\n",
      "RangeIndex: 4600 entries, 0 to 4599\n",
      "Data columns (total 18 columns):\n",
      "date             4600 non-null object\n",
      "price            4600 non-null float64\n",
      "bedrooms         4600 non-null float64\n",
      "bathrooms        4600 non-null float64\n",
      "sqft_living      4600 non-null int64\n",
      "sqft_lot         4600 non-null int64\n",
      "floors           4600 non-null float64\n",
      "waterfront       4600 non-null int64\n",
      "view             4600 non-null int64\n",
      "condition        4600 non-null int64\n",
      "sqft_above       4600 non-null int64\n",
      "sqft_basement    4600 non-null int64\n",
      "yr_built         4600 non-null int64\n",
      "yr_renovated     4600 non-null int64\n",
      "street           4600 non-null object\n",
      "city             4600 non-null object\n",
      "statezip         4600 non-null object\n",
      "country          4600 non-null object\n",
      "dtypes: float64(4), int64(9), object(5)\n",
      "memory usage: 647.0+ KB\n",
      "None\n",
      "\n",
      "\n",
      "\n",
      "\n",
      "DESCRIPTION\n",
      "              price     bedrooms    bathrooms   sqft_living      sqft_lot  \\\n",
      "count  4.600000e+03  4600.000000  4600.000000   4600.000000  4.600000e+03   \n",
      "mean   5.519630e+05     3.400870     2.160815   2139.346957  1.485252e+04   \n",
      "std    5.638347e+05     0.908848     0.783781    963.206916  3.588444e+04   \n",
      "min    0.000000e+00     0.000000     0.000000    370.000000  6.380000e+02   \n",
      "25%    3.228750e+05     3.000000     1.750000   1460.000000  5.000750e+03   \n",
      "50%    4.609435e+05     3.000000     2.250000   1980.000000  7.683000e+03   \n",
      "75%    6.549625e+05     4.000000     2.500000   2620.000000  1.100125e+04   \n",
      "max    2.659000e+07     9.000000     8.000000  13540.000000  1.074218e+06   \n",
      "\n",
      "            floors   waterfront         view    condition   sqft_above  \\\n",
      "count  4600.000000  4600.000000  4600.000000  4600.000000  4600.000000   \n",
      "mean      1.512065     0.007174     0.240652     3.451739  1827.265435   \n",
      "std       0.538288     0.084404     0.778405     0.677230   862.168977   \n",
      "min       1.000000     0.000000     0.000000     1.000000   370.000000   \n",
      "25%       1.000000     0.000000     0.000000     3.000000  1190.000000   \n",
      "50%       1.500000     0.000000     0.000000     3.000000  1590.000000   \n",
      "75%       2.000000     0.000000     0.000000     4.000000  2300.000000   \n",
      "max       3.500000     1.000000     4.000000     5.000000  9410.000000   \n",
      "\n",
      "       sqft_basement     yr_built  yr_renovated  \n",
      "count    4600.000000  4600.000000   4600.000000  \n",
      "mean      312.081522  1970.786304    808.608261  \n",
      "std       464.137228    29.731848    979.414536  \n",
      "min         0.000000  1900.000000      0.000000  \n",
      "25%         0.000000  1951.000000      0.000000  \n",
      "50%         0.000000  1976.000000      0.000000  \n",
      "75%       610.000000  1997.000000   1999.000000  \n",
      "max      4820.000000  2014.000000   2014.000000  \n"
     ]
    }
   ],
   "source": [
    "# EDA 3\n",
    "print('INFORMATION')\n",
    "print(data.info())\n",
    "print('\\n' * 3)\n",
    "print('DESCRIPTION')\n",
    "print(data.describe())"
   ]
  },
  {
   "cell_type": "code",
   "execution_count": 319,
   "metadata": {},
   "outputs": [
    {
     "name": "stdout",
     "output_type": "stream",
     "text": [
      "<class 'pandas.core.frame.DataFrame'>\n",
      "Int64Index: 4600 entries, 0 to 4599\n",
      "Data columns (total 21 columns):\n",
      "date                    4600 non-null datetime64[ns]\n",
      "price                   4600 non-null float64\n",
      "bedrooms                4600 non-null float64\n",
      "bathrooms               4600 non-null float64\n",
      "sqft_living             4600 non-null int64\n",
      "sqft_lot                4600 non-null int64\n",
      "floors                  4600 non-null float64\n",
      "waterfront              4600 non-null category\n",
      "view                    4600 non-null int64\n",
      "condition               4600 non-null int64\n",
      "sqft_above              4600 non-null int64\n",
      "sqft_basement           4600 non-null int64\n",
      "yr_built                4600 non-null int64\n",
      "yr_renovated            4600 non-null int64\n",
      "street                  4600 non-null object\n",
      "city                    4600 non-null category\n",
      "statezip                4600 non-null object\n",
      "country                 4600 non-null object\n",
      "state                   4600 non-null object\n",
      "zip                     4600 non-null int64\n",
      "cost of living index    4600 non-null float64\n",
      "dtypes: category(2), datetime64[ns](1), float64(5), int64(9), object(4)\n",
      "memory usage: 729.4+ KB\n",
      "None\n"
     ]
    }
   ],
   "source": [
    "#From EDA we see that we need to:\n",
    "#1 Convert date into date object\n",
    "data.date = pd.to_datetime(data.date)\n",
    "#2 Convert waterfront to categorical variable\n",
    "data.waterfront = data.waterfront.astype('category')\n",
    "#3 Convert city to categorical variable\n",
    "data.city = data.city.astype('category')\n",
    "#4 Separate zip and state and convert state to categorical variable\n",
    "data[['state','zip']] = data.statezip.str.split(expand=True)\n",
    "data.zip = data.zip.astype('int64')\n",
    "#5 Join living expence index column to 'data'\n",
    "#the below file is obtained from insure.com \n",
    "#comparing prices of living between neighbourhoods\n",
    "living_expence_index = pd.read_csv('zips.csv')\n",
    "data = pd.merge(data,living_expence_index,on='zip',how='inner')\n",
    "\n",
    "print(data.info())\n"
   ]
  },
  {
   "cell_type": "code",
   "execution_count": 320,
   "metadata": {},
   "outputs": [
    {
     "name": "stdout",
     "output_type": "stream",
     "text": [
      "COST OF LIVING INDEX AND PRICE CORRELATION\n",
      "[array([[ 1.        , -0.02451742],\n",
      "       [-0.02451742,  1.        ]])] \n",
      "\n",
      "\n",
      "    index  count\n",
      "0  1.0000   1864\n",
      "1  0.9981    784\n",
      "2  1.0006    575\n",
      "3  0.9987    515\n",
      "4  0.9994    347\n",
      "5  1.0013    223\n",
      "6  0.9974    174\n",
      "7  1.0026     67\n",
      "8  1.0019     49\n",
      "9  0.6989      2 \n",
      "\n",
      "\n",
      "   cost of living index     price\n",
      "0                0.6989  285000.0\n",
      "1                0.9974  637903.0\n",
      "2                0.9981  734920.0\n",
      "3                0.9987  587132.0\n",
      "4                0.9994  610307.0\n",
      "5                1.0000  550673.0\n",
      "6                1.0006  381991.0\n",
      "7                1.0013  274566.0\n",
      "8                1.0019  263912.0\n",
      "9                1.0026  251921.0\n"
     ]
    }
   ],
   "source": [
    "#Exploring new data\n",
    "\n",
    "print('COST OF LIVING INDEX AND PRICE CORRELATION')\n",
    "print([np.corrcoef(data['cost of living index'],data['price'])],2*'\\n')\n",
    "\n",
    "ind_dist=data['cost of living index'].value_counts().to_frame(name = 'count').reset_index()\n",
    "print(ind_dist,2*'\\n')\n",
    "\n",
    "ind_vs_price = data[['cost of living index','price']].groupby('cost of living index').mean().round().sort_values(by='cost of living index').reset_index()\n",
    "print(ind_vs_price)\n",
    "\n",
    "\n"
   ]
  },
  {
   "cell_type": "markdown",
   "metadata": {},
   "source": [
    "From correlation coefficient we see that the new feature doesn't have much linear correlation however there may be a significant non linear correlation which Regression Tree models can comprehend. The later significance for the model will be determined on the model building step."
   ]
  },
  {
   "cell_type": "code",
   "execution_count": 321,
   "metadata": {},
   "outputs": [
    {
     "data": {
      "image/png": "[encoded data removed]",
      "text/plain": [
       "<Figure size 1120x800 with 1 Axes>"
      ]
     },
     "metadata": {},
     "output_type": "display_data"
    }
   ],
   "source": [
    "#Exploring yet further in visual EDA of year_built feature\n",
    "plt.figure(figsize=(14, 10), dpi= 80, facecolor='w', edgecolor='k')\n",
    "yr_blt_val_count = data.yr_built.value_counts()\n",
    "plt.bar(yr_blt_val_count.index,yr_blt_val_count.values,color = 'blue')\n",
    "plt.title('Year built distribution')\n",
    "plt.show()"
   ]
  },
  {
   "cell_type": "code",
   "execution_count": 322,
   "metadata": {},
   "outputs": [
    {
     "data": {
      "image/png": "[encoded data removed]",
      "text/plain": [
       "<Figure size 1120x800 with 1 Axes>"
      ]
     },
     "metadata": {},
     "output_type": "display_data"
    }
   ],
   "source": [
    "#Year renovated visualization\n",
    "plt.figure(figsize=(14, 10), dpi= 80, facecolor='w', edgecolor='k')\n",
    "yr_ren_val_count = data.yr_renovated.value_counts()\n",
    "plt.bar(yr_ren_val_count.index,yr_ren_val_count.values,log=True,color='black',edgecolor='black')\n",
    "plt.title('Year renovated log distribution')\n",
    "plt.show()\n"
   ]
  },
  {
   "cell_type": "markdown",
   "metadata": {},
   "source": [
    "It appears that some of the houseds has not been renovated at all. The distribution of year renovated may confuse the mode. It seems reasonable to create a new variable that would comprise the meaning of both features.\n",
    "House age feature will determine the amount of years since the house was built or renovated if it ever has been."
   ]
  },
  {
   "cell_type": "code",
   "execution_count": 323,
   "metadata": {},
   "outputs": [
    {
     "name": "stdout",
     "output_type": "stream",
     "text": [
      "Success\n"
     ]
    }
   ],
   "source": [
    "#Function for creating house age feature\n",
    "def house_age(year_built,year_renovated):\n",
    "    '''This function takes two arguments: \n",
    "    columns year built and year renovated \n",
    "    and defines how much time passed since \n",
    "    the house was built or renovated'''\n",
    "    diff = []\n",
    "    for i in range(0,len(year_built)):\n",
    "        if year_renovated[i] == 0:\n",
    "            diff.append(2020-year_built[i])\n",
    "        else:\n",
    "            diff.append(2020-year_renovated[i])\n",
    "    return diff\n",
    "print('Success')"
   ]
  },
  {
   "cell_type": "code",
   "execution_count": 324,
   "metadata": {},
   "outputs": [
    {
     "data": {
      "image/png": "[encoded data removed]",
      "text/plain": [
       "<Figure size 1120x800 with 1 Axes>"
      ]
     },
     "metadata": {},
     "output_type": "display_data"
    }
   ],
   "source": [
    "#The coulumn house_age in data will show the number of years passed since the house was built or renovated\n",
    "age = house_age(data.yr_built,data.yr_renovated)\n",
    "data['house_age'] = age\n",
    "\n",
    "plt.figure(figsize=(14, 10), dpi= 80, facecolor='w', edgecolor='k')\n",
    "house_age_val_count = data.house_age.value_counts()\n",
    "plt.bar(house_age_val_count.index,house_age_val_count.values,color = 'blue')\n",
    "plt.title('Year built distribution')\n",
    "plt.show()"
   ]
  },
  {
   "cell_type": "code",
   "execution_count": 325,
   "metadata": {},
   "outputs": [
    {
     "data": {
      "text/plain": [
       "<Figure size 1440x1280 with 0 Axes>"
      ]
     },
     "metadata": {},
     "output_type": "display_data"
    },
    {
     "data": {
      "image/png": "[encoded data removed]",
      "text/plain": [
       "<Figure size 432x288 with 1 Axes>"
      ]
     },
     "metadata": {},
     "output_type": "display_data"
    }
   ],
   "source": [
    "#Looking at price destribution\n",
    "#Distribution of price by number of bedrooms is the most interesting. \n",
    "plt.figure(figsize=(18, 16), dpi= 80, facecolor='w', edgecolor='k')\n",
    "data.boxplot(column='price', by='bedrooms')\n",
    "plt.ylim(0,3500000)\n",
    "plt.show()"
   ]
  },
  {
   "cell_type": "markdown",
   "metadata": {},
   "source": [
    "Number of bedrooms shows a good linear increase with the price increase. It looks like this may be a stong predictor for our future Regression Tree.\n",
    "However, there are strange houses with 0 bedrooms which seems to violate the linear relationships completely which will be further investigated."
   ]
  },
  {
   "cell_type": "code",
   "execution_count": 326,
   "metadata": {},
   "outputs": [
    {
     "data": {
      "image/png": "[encoded data removed]",
      "text/plain": [
       "<Figure size 1120x800 with 1 Axes>"
      ]
     },
     "metadata": {},
     "output_type": "display_data"
    }
   ],
   "source": [
    "#Seaborn count plot of condition\n",
    "plt.figure(figsize=(14, 10), dpi= 80, facecolor='w', edgecolor='k')\n",
    "sns.countplot(data=data, y=\"condition\")\n",
    "plt.title('Count of Condition by view')\n",
    "plt.show()"
   ]
  },
  {
   "cell_type": "code",
   "execution_count": 327,
   "metadata": {},
   "outputs": [
    {
     "data": {
      "image/png": "[encoded data removed]",
      "text/plain": [
       "<Figure size 1120x800 with 1 Axes>"
      ]
     },
     "metadata": {},
     "output_type": "display_data"
    }
   ],
   "source": [
    "#Seaborn count plot of view\n",
    "plt.figure(figsize=(14, 10), dpi= 80, facecolor='w', edgecolor='k')\n",
    "sns.countplot(data=data, y=\"view\")\n",
    "plt.title('Count of view')\n",
    "plt.show()"
   ]
  },
  {
   "cell_type": "markdown",
   "metadata": {},
   "source": [
    "Here 0 most likely represents the missing data and not the complete absence of view.\n",
    "Since this feature has so many missing values it's not very informative and Regression Tree is unlikely to split on this feature so it looks like I may as well delete it. However I have enough machine power to process this feature and let the model decide."
   ]
  },
  {
   "cell_type": "code",
   "execution_count": 328,
   "metadata": {},
   "outputs": [
    {
     "data": {
      "image/png": "[encoded data removed]",
      "text/plain": [
       "<Figure size 1120x800 with 1 Axes>"
      ]
     },
     "metadata": {},
     "output_type": "display_data"
    }
   ],
   "source": [
    "#Seaborn regression plot\n",
    "plt.figure(figsize=(14, 10), dpi= 80, facecolor='w', edgecolor='k')\n",
    "sns.regplot(data=data, x='bedrooms',y='price', order=1)\n",
    "plt.ylim(0,5000000)\n",
    "plt.title('Regression plot')\n",
    "plt.show()"
   ]
  },
  {
   "cell_type": "markdown",
   "metadata": {},
   "source": [
    "It looks like the data may have some outliers which may affect the model significantly. These are exceptional houses that cost much more that the regular ones and don't differ with features presented here"
   ]
  },
  {
   "cell_type": "code",
   "execution_count": 329,
   "metadata": {},
   "outputs": [
    {
     "name": "stdout",
     "output_type": "stream",
     "text": [
      "min date is 2014-05-02 00:00:00\n",
      "max date is 2014-07-10 00:00:00\n"
     ]
    }
   ],
   "source": [
    "#Exploring dates\n",
    "print('min date is',min(data.date))\n",
    "print('max date is',max(data.date))\n",
    "#Since our timeframe too short to explore house price changes by season we'll not consider dates in this project"
   ]
  },
  {
   "cell_type": "code",
   "execution_count": 330,
   "metadata": {},
   "outputs": [
    {
     "name": "stdout",
     "output_type": "stream",
     "text": [
      "Unique number of bedrooms in a house\n",
      "[0. 1. 2. 3. 4. 5. 6. 7. 8. 9.]\n",
      "\n",
      "\n",
      "\n",
      "Detailed view of those with 0 bedrooms\n",
      "           date      price  bedrooms  bathrooms  sqft_living  sqft_lot  \\\n",
      "1305 2014-06-12  1095000.0       0.0        0.0         3064      4764   \n",
      "2891 2014-06-24  1295648.0       0.0        0.0         4810     28008   \n",
      "\n",
      "      floors waterfront  view  condition  sqft_above  sqft_basement  yr_built  \\\n",
      "1305     3.5          0     2          3        3064              0      1990   \n",
      "2891     2.0          0     0          3        4810              0      1990   \n",
      "\n",
      "      yr_renovated            street     city  statezip country state    zip  \\\n",
      "1305          2009     814 E Howe St  Seattle  WA 98102     USA    WA  98102   \n",
      "2891          2009  20418 NE 64th Pl  Redmond  WA 98053     USA    WA  98053   \n",
      "\n",
      "      cost of living index  house_age  \n",
      "1305                1.0000         11  \n",
      "2891                0.9987         11  \n",
      "\n",
      "\n",
      "\n",
      "Countries of houses' location\n",
      "['USA']\n",
      "\n",
      "\n",
      "\n",
      "States of houses' location\n",
      "['WA']\n",
      "\n",
      "\n",
      "\n",
      "There are 4525 unique streets in our dataset\n"
     ]
    }
   ],
   "source": [
    "#Exploring anomalies\n",
    "\n",
    "# 0 bedrooms\n",
    "print('Unique number of bedrooms in a house')\n",
    "print(np.sort(pd.unique(data.bedrooms)))\n",
    "print('\\n'*2)\n",
    "#It looks like we have 0 bedrooms in some houses\n",
    "print('Detailed view of those with 0 bedrooms')\n",
    "print(data[data.bedrooms == 0])\n",
    "print('\\n'*2)\n",
    "# Countries\n",
    "print('Countries of houses\\' location')\n",
    "print(pd.unique(data.country)) \n",
    "#The country is always USA so we can remove this variable\n",
    "print('\\n'*2)\n",
    "# states\n",
    "print('States of houses\\' location')\n",
    "print(pd.unique(data.state)) \n",
    "#The state is always WA so we can remove this variable\n",
    "print('\\n'*2)\n",
    "# Streets\n",
    "print('There are',data.street.value_counts().count(),'unique streets in our dataset')"
   ]
  },
  {
   "cell_type": "markdown",
   "metadata": {},
   "source": [
    "Since we are not going to do geographic analysis here we can remove the street variable as it's not going to work as factor in this case besides we have zip code feature and cost of living index feature created on its bases which encapsulates all the geographic location features of the house in one."
   ]
  },
  {
   "cell_type": "code",
   "execution_count": 331,
   "metadata": {},
   "outputs": [],
   "source": [
    "# Cleaning\n",
    "# Dropping columns and rows\n",
    "#data['bath_bed'] = data.bathrooms*data.bedrooms\n",
    "data = data.drop(data[data.bedrooms == 0].index,axis=0) \n",
    "data = data.drop(data[data.price>10_000_000].index,axis=0)\n",
    "data = data.drop(['date','statezip','street','country',\n",
    "                  'state','zip','yr_built','yr_renovated',\n",
    "                  'city'],axis=1)\n",
    "\n",
    "#As the gap in the index was created we'll need to reset index\n",
    "data.reset_index(inplace=True,drop=True)\n"
   ]
  },
  {
   "cell_type": "code",
   "execution_count": 334,
   "metadata": {},
   "outputs": [
    {
     "data": {
      "text/plain": [
       "0       0\n",
       "1       0\n",
       "2       0\n",
       "3       0\n",
       "4       0\n",
       "       ..\n",
       "4591    0\n",
       "4592    0\n",
       "4593    0\n",
       "4594    0\n",
       "4595    0\n",
       "Name: waterfront, Length: 4596, dtype: category\n",
       "Categories (2, int64): [0, 1]"
      ]
     },
     "execution_count": 334,
     "metadata": {},
     "output_type": "execute_result"
    }
   ],
   "source": [
    "data.waterfront"
   ]
  },
  {
   "cell_type": "code",
   "execution_count": 297,
   "metadata": {},
   "outputs": [
    {
     "data": {
      "image/png": "[encoded data removed]",
      "text/plain": [
       "<Figure size 1440x1280 with 2 Axes>"
      ]
     },
     "metadata": {},
     "output_type": "display_data"
    }
   ],
   "source": [
    "#Checking correlation of features\n",
    "data1=data.drop('price',axis=1)\n",
    "plt.figure(figsize=(14, 10), dpi= 80, facecolor='w', edgecolor='k')\n",
    "sns.heatmap(data1.corr(),cmap=\"YlGnBu\")\n",
    "plt.title('Features\\' correlation' )\n",
    "plt.show()"
   ]
  },
  {
   "cell_type": "markdown",
   "metadata": {},
   "source": [
    "There are some variables with significant statistical correlation such as: sqft_living & bathrooms, sqft_living & bedrooms, bathrooms & bedrooms, sqft_living & sqft_above. \n",
    "One of the advantages of Regression trees is that variables with high correlation will be discarded by the model during node splitting. Also there's no need to include interaction terms which is perfectly illusntrated in this example https://rpubs.com/scottifer8/296739\n"
   ]
  },
  {
   "cell_type": "markdown",
   "metadata": {},
   "source": [
    "# Model building step"
   ]
  },
  {
   "cell_type": "markdown",
   "metadata": {},
   "source": [
    "## Splitting the data"
   ]
  },
  {
   "cell_type": "code",
   "execution_count": 222,
   "metadata": {},
   "outputs": [
    {
     "name": "stdout",
     "output_type": "stream",
     "text": [
      "Libraries successfully imported\n"
     ]
    }
   ],
   "source": [
    "#Importing neccessary libraries\n",
    "from sklearn.model_selection import train_test_split\n",
    "from sklearn.tree import DecisionTreeRegressor()\n",
    "from sklearn.model_selection import cross_val_score\n",
    "from sklearn.model_selection import GridSearchCV\n",
    "from sklearn.metrics import mean_absolute_error as MAE\n",
    "from sklearn.metrics import mean_squared_error as MSE\n",
    "print('Libraries successfully imported')"
   ]
  },
  {
   "cell_type": "code",
   "execution_count": 223,
   "metadata": {},
   "outputs": [],
   "source": [
    "#Splitting the data\n",
    "X=data.drop('price',axis=1)\n",
    "y=data['price']\n",
    "X_train,X_test,y_train,y_test = train_test_split(X,y,test_size = 0.2)"
   ]
  },
  {
   "cell_type": "raw",
   "metadata": {},
   "source": [
    "#to save the train and test separately\n",
    "\n",
    "#merging\n",
    "train = pd.merge(X_train,y_train,left_index = True, right_index=True, how = 'inner')\n",
    "test = pd.merge(X_test,y_test,left_index = True, right_index=True, how = 'inner')\n",
    "\n",
    "#saving\n",
    "train.to_csv('train.csv')\n",
    "test.to_csv('test.csv')\n",
    "\n"
   ]
  },
  {
   "cell_type": "raw",
   "metadata": {},
   "source": [
    "#to load the train and test back\n",
    "\n",
    "#reading\n",
    "train = pd.read_csv('train.csv',index_col=0)\n",
    "test = pd.read_csv('test.csv',index_col=0)\n",
    "\n",
    "#splitting\n",
    "X_train = train.drop('price',axis=1)\n",
    "y_train = train['price']\n",
    "X_test = test.drop('price',axis=1)\n",
    "y_test = test['price']"
   ]
  },
  {
   "cell_type": "code",
   "execution_count": 225,
   "metadata": {},
   "outputs": [],
   "source": [
    "from datetime import datetime\n",
    "import time\n",
    "\n",
    "#displaying time\n",
    "\n",
    "def display_time (start,end):\n",
    "    '''This function prints time in hours, minutes and seconds'''\n",
    "    if (end-start)>3600:\n",
    "        hours = (end-start)//3600\n",
    "        minutes = (end-start)%3600\n",
    "        seconds = (end-start)%60\n",
    "        print('Time needed for execution is',\n",
    "              hours,' hours ',minutes,' minutes ',round(seconds),' seconds')\n",
    "    elif (end-start)>60:\n",
    "        minutes = (end-start)//60\n",
    "        seconds = (end-start)%60\n",
    "        print('Time needed for execution is',\n",
    "              minutes,' minutes ',round(seconds),' seconds')\n",
    "    else :\n",
    "        seconds = end-start\n",
    "        print('Time needed for execution is',\n",
    "              round(seconds),' seconds')\n",
    "    \n"
   ]
  },
  {
   "cell_type": "markdown",
   "metadata": {},
   "source": [
    "## Building the DecisionTreeRegressor"
   ]
  },
  {
   "cell_type": "code",
   "execution_count": 226,
   "metadata": {},
   "outputs": [
    {
     "name": "stdout",
     "output_type": "stream",
     "text": [
      "Done\n"
     ]
    }
   ],
   "source": [
    "#Instantiating the model\n",
    "dt = DecisionTreeRegressor(random_state=33) #criterion = 'mae'\n",
    "\n",
    "#Creating parameter grid\n",
    "max_depth = [int(x) for x in np.linspace(4, 11, num = 8)]\n",
    "min_samples_split = [int(x) for x in nplinspace(10, 80, num = 8)]\n",
    "\n",
    "params_dt = {   'max_depth': max_depth,\n",
    "                'max_features':['auto','sqrt'],\n",
    "                'min_samples_leaf':[0.05,0.025,0.015,0.01,0.005,0.0035],\n",
    "                'min_samples_split':min_samples_split}\n",
    "print('Done')"
   ]
  },
  {
   "cell_type": "code",
   "execution_count": 227,
   "metadata": {},
   "outputs": [],
   "source": [
    "#Instantiating the Grid Search\n",
    "grid_dt = GridSearchCV(estimator=dt,\n",
    "                      param_grid=params_dt,\n",
    "                      scoring='neg_mean_squared_error',\n",
    "                       cv=4,\n",
    "                       n_jobs=-1,)\n"
   ]
  },
  {
   "cell_type": "code",
   "execution_count": 228,
   "metadata": {},
   "outputs": [
    {
     "name": "stdout",
     "output_type": "stream",
     "text": [
      "Best hyperparameters:\n",
      " {'max_depth': 5, 'max_features': 'auto', 'min_samples_leaf': 0.01, 'min_samples_split': 75}\n",
      "RMSE of dt: 242542.25\n",
      "MAE of dt: 146088.18\n",
      "Time needed for execution is 11  seconds\n",
      "Ended on October 30, 04:19:23\n"
     ]
    }
   ],
   "source": [
    "#Training the model\n",
    "start=time.time()\n",
    "\n",
    "grid_dt.fit(X_train,y_train)\n",
    "\n",
    "print(\"Best hyperparameters:\\n\", grid_dt.best_params_)\n",
    "\n",
    "best_model = grid_dt.best_estimator_\n",
    "best_score = grid_dt.best_score_\n",
    "y_pred=best_model.predict(X_test)\n",
    "rmse_test = MSE(y_test,y_pred)**0.5\n",
    "mae_test = MAE(y_test,y_pred)\n",
    "\n",
    "print('RMSE of dt: {:.2f}'.format(rmse_test))\n",
    "print('MAE of dt: {:.2f}'.format(mae_test))\n",
    "\n",
    "end = time.time()\n",
    "\n",
    "display_time(start,end)\n",
    "\n",
    "\n",
    "print('Ended on',datetime.fromtimestamp(end).strftime(\"%B %d, %I:%M:%S\"))"
   ]
  },
  {
   "cell_type": "markdown",
   "metadata": {},
   "source": [
    "start = time.time()\n",
    "RMSE_train = []\n",
    "RMSE_test = []\n",
    "MAE_test = []\n",
    "    \n",
    "for i in range(100):\n",
    "\n",
    "    #Splitting the data\n",
    "    X_train,X_test,y_train,y_test = train_test_split(X,y,test_size = 0.2)\n",
    "    #training model\n",
    "    grid_dt.fit(X_train,y_train)\n",
    "    #extracting parameters\n",
    "    best_model = grid_dt.best_estimator_\n",
    "    best_score = grid_dt.best_score_\n",
    "    y_pred=best_model.predict(X_test)\n",
    "    rmse_test = MSE(y_test,y_pred)**0.5\n",
    "    mae_test = MAE(y_test,y_pred)\n",
    "    RMSE_train.append((-best_score)**0.5)\n",
    "    RMSE_test.append(rmse_test)\n",
    "    MAE_test.append(mae_test)\n",
    "    print(i)\n",
    "\n",
    "print('The average test MAE is ', np.mean(MAE_test))\n",
    "print('The average training RMSE is ', np.mean(RMSE_train))\n",
    "print('The average test RMSE is ', np.mean(RMSE_test))\n",
    "print('The maximum test RMSE is ', max(RMSE_test))\n",
    "print('The minimum test RMSE is ', min(RMSE_test))\n",
    "\n",
    "end=time.time()\n",
    "display_time(start,end)\n",
    "print('Ended on',datetime.fromtimestamp(end).strftime(\"%B %d, %I:%M:%S\"))"
   ]
  },
  {
   "cell_type": "markdown",
   "metadata": {},
   "source": [
    "#With accepted features (House age,cost of living index,without outliers)\n",
    "\n",
    "#The average test MAE is  147997.16914005612\n",
    "#The average training RMSE is  251616.60608474005\n",
    "#The average test RMSE is  252927.76879291434\n",
    "#The maximum test RMSE is  301797.8829299676\n",
    "#The minimum test RMSE is  206247.3313316991\n",
    "\n",
    "\n",
    "#with features view and condition\n",
    "\n",
    "The average test MAE is  146584.07863802026\n",
    "The average training RMSE is  251948.01742759586\n",
    "The average test RMSE is  250727.46028891215\n",
    "The maximum test RMSE is  302071.59274796146\n",
    "The minimum test RMSE is  203687.7943825271\n",
    "Time needed for execution is 12.0  minutes  16  seconds\n",
    "Ended on October 30, 03:36:49\n",
    "\n",
    "without view\n",
    "The average test MAE is  151576.97872006104\n",
    "The average training RMSE is  254491.86247953319\n",
    "The average test RMSE is  259436.60939533624\n",
    "The maximum test RMSE is  302649.43214218033\n",
    "The minimum test RMSE is  205894.89261285178\n",
    "Time needed for execution is 11.0  minutes  56  seconds\n",
    "Ended on October 30, 03:53:16\n",
    "\n",
    "without view and condition\n",
    "The average test MAE is  150467.9832859309\n",
    "The average training RMSE is  254865.49908844303\n",
    "The average test RMSE is  257764.3263373744\n",
    "The maximum test RMSE is  305991.1014430061\n",
    "The minimum test RMSE is  212219.51998174688\n",
    "Time needed for execution is 11.0  minutes  52  seconds\n",
    "Ended on October 30, 04:35:32\n"
   ]
  },
  {
   "cell_type": "code",
   "execution_count": null,
   "metadata": {},
   "outputs": [],
   "source": [
    "#With features\n"
   ]
  },
  {
   "cell_type": "code",
   "execution_count": 638,
   "metadata": {},
   "outputs": [
    {
     "ename": "AttributeError",
     "evalue": "'list' object has no attribute 'reshape'",
     "output_type": "error",
     "traceback": [
      "\u001b[1;31m---------------------------------------------------------------------------\u001b[0m",
      "\u001b[1;31mAttributeError\u001b[0m                            Traceback (most recent call last)",
      "\u001b[1;32m<ipython-input-638-d6548ba635af>\u001b[0m in \u001b[0;36m<module>\u001b[1;34m\u001b[0m\n\u001b[1;32m----> 1\u001b[1;33m \u001b[0mRMSE_test\u001b[0m\u001b[1;33m.\u001b[0m\u001b[0mreshape\u001b[0m\u001b[1;33m(\u001b[0m\u001b[1;36m1\u001b[0m\u001b[1;33m,\u001b[0m\u001b[1;36m100\u001b[0m\u001b[1;33m)\u001b[0m\u001b[1;33m\u001b[0m\u001b[1;33m\u001b[0m\u001b[0m\n\u001b[0m",
      "\u001b[1;31mAttributeError\u001b[0m: 'list' object has no attribute 'reshape'"
     ]
    }
   ],
   "source": [
    "RMSE_test.reshape(1,100)"
   ]
  },
  {
   "cell_type": "code",
   "execution_count": 594,
   "metadata": {},
   "outputs": [
    {
     "name": "stdout",
     "output_type": "stream",
     "text": [
      "with feature 244.375 without feature nan\n"
     ]
    },
    {
     "name": "stderr",
     "output_type": "stream",
     "text": [
      "C:\\ProgramData\\Anaconda3\\lib\\site-packages\\numpy\\core\\fromnumeric.py:3118: RuntimeWarning: Mean of empty slice.\n",
      "  out=out, **kwargs)\n",
      "C:\\ProgramData\\Anaconda3\\lib\\site-packages\\numpy\\core\\_methods.py:85: RuntimeWarning: invalid value encountered in double_scalars\n",
      "  ret = ret.dtype.type(ret / rcount)\n"
     ]
    }
   ],
   "source": [
    "without_feature = [247]\n",
    "with_feature = [241,258,244,263,230,239,267,213]\n",
    "print('with feature',np.mean(with_feature),\n",
    "'without feature',np.mean(without_feature))"
   ]
  },
  {
   "cell_type": "code",
   "execution_count": 803,
   "metadata": {
    "collapsed": true
   },
   "outputs": [
    {
     "name": "stdout",
     "output_type": "stream",
     "text": [
      "Square root of the Mean Squared error:231298.08\n"
     ]
    }
   ],
   "source": [
    "#Let's explore the underfitting and overfitting\n",
    "#fitting and predicting\n",
    "#dt.fit(X_train,y_train)\n",
    "y_pred_train = best_model.predict(X_train)\n",
    "mse_dt = MSE(y_train,y_pred_train)\n",
    "rmse_dt = mse_dt**0.5\n",
    "print('Square root of the Mean Squared error:{:.2f}'.format(rmse_dt))"
   ]
  },
  {
   "cell_type": "code",
   "execution_count": 804,
   "metadata": {
    "collapsed": true
   },
   "outputs": [
    {
     "name": "stdout",
     "output_type": "stream",
     "text": [
      "CV RMSE: 260461.75\n"
     ]
    }
   ],
   "source": [
    "#Cross validation\n",
    "MSE_CV_scores = -cross_val_score(best_model, X_train,y_train, cv=10, \n",
    "                       scoring='neg_mean_squared_error',\n",
    "                       n_jobs=-1)\n",
    "\n",
    "RMSE_CV = (MSE_CV_scores.mean())**(0.5)\n",
    "\n",
    "# Print RMSE_CV\n",
    "print('CV RMSE: {:.2f}'.format(RMSE_CV))"
   ]
  },
  {
   "cell_type": "code",
   "execution_count": 318,
   "metadata": {
    "collapsed": true
   },
   "outputs": [
    {
     "name": "stdout",
     "output_type": "stream",
     "text": [
      "Square root of the Mean Squared error:313226.86\n"
     ]
    }
   ],
   "source": [
    "#fitting and predicting\n",
    "dt.fit(X_train,y_train)\n",
    "y_pred = dt.predict(X_test)\n",
    "mse_dt = MSE(y_pred,y_test)\n",
    "rmse_dt = mse_dt**0.5\n",
    "print('Square root of the Mean Squared error:{:.2f}'.format(rmse_dt))"
   ]
  },
  {
   "cell_type": "markdown",
   "metadata": {},
   "source": [
    "# This random forest has no hyperparameters tuned think about that when comes to this part"
   ]
  },
  {
   "cell_type": "code",
   "execution_count": 805,
   "metadata": {
    "scrolled": false
   },
   "outputs": [
    {
     "name": "stderr",
     "output_type": "stream",
     "text": [
      "C:\\ProgramData\\Anaconda3\\lib\\site-packages\\sklearn\\ensemble\\forest.py:245: FutureWarning: The default value of n_estimators will change from 10 in version 0.20 to 100 in 0.22.\n",
      "  \"10 in version 0.20 to 100 in 0.22.\", FutureWarning)\n"
     ]
    },
    {
     "data": {
      "image/png": "[encoded data removed]",
      "text/plain": [
       "<Figure size 432x288 with 1 Axes>"
      ]
     },
     "metadata": {},
     "output_type": "display_data"
    }
   ],
   "source": [
    "#visualizing feature importance ()\n",
    "rf=RandomForestRegressor()\n",
    "rf.fit(X_train,y_train)\n",
    "importances = pd.Series(data=rf.feature_importances_,\n",
    "                        index= X_train.columns)\n",
    "\n",
    "# Sort importances\n",
    "importances_sorted = importances.sort_values()\n",
    "\n",
    "# Draw a horizontal barplot of importances_sorted\n",
    "importances_sorted.plot(kind='barh', color = 'lightgreen')\n",
    "plt.title('Features Importances')\n",
    "plt.show()"
   ]
  },
  {
   "cell_type": "markdown",
   "metadata": {
    "collapsed": true
   },
   "source": [
    "## Ensembling with Random Forsest"
   ]
  },
  {
   "cell_type": "code",
   "execution_count": 807,
   "metadata": {
    "collapsed": true
   },
   "outputs": [
    {
     "name": "stdout",
     "output_type": "stream",
     "text": [
      "Done\n"
     ]
    }
   ],
   "source": [
    "#Instantiating Random Forest \n",
    "rf=RandomForestRegressor()\n",
    "\n",
    "#Creating parameter grid\n",
    "n_estimators = [int(x) for x in np.linspace(600, stop = 900, num = 4)]\n",
    "max_depth = [int(x) for x in np.linspace(12, 16, num = 5)]\n",
    "\n",
    "params_rf = {'n_estimators': n_estimators,\n",
    "                 'max_depth': max_depth,\n",
    "                'max_features':['auto','sqrt'],\n",
    "                'min_samples_leaf':[0.005,0.0025,0.0015,0.001,0.0005],\n",
    "                'min_samples_split':[7,10,12,15,20]}\n"
   ]
  },
  {
   "cell_type": "code",
   "execution_count": 808,
   "metadata": {},
   "outputs": [
    {
     "name": "stdout",
     "output_type": "stream",
     "text": [
      "Done\n"
     ]
    }
   ],
   "source": [
    "grid_rf = GridSearchCV(estimator=rf,\n",
    "                       param_grid=params_rf,\n",
    "                       scoring='neg_mean_squared_error',\n",
    "                       cv=4,\n",
    "                       verbose=1,\n",
    "                       n_jobs=4 )\n",
    "print('Done')"
   ]
  },
  {
   "cell_type": "code",
   "execution_count": 801,
   "metadata": {
    "scrolled": false
   },
   "outputs": [
    {
     "name": "stdout",
     "output_type": "stream",
     "text": [
      "Fitting 4 folds for each of 1000 candidates, totalling 4000 fits\n"
     ]
    },
    {
     "name": "stderr",
     "output_type": "stream",
     "text": [
      "[Parallel(n_jobs=4)]: Using backend LokyBackend with 4 concurrent workers.\n",
      "[Parallel(n_jobs=4)]: Done  42 tasks      | elapsed:   55.1s\n",
      "[Parallel(n_jobs=4)]: Done 192 tasks      | elapsed:  4.4min\n",
      "[Parallel(n_jobs=4)]: Done 442 tasks      | elapsed: 10.2min\n",
      "[Parallel(n_jobs=4)]: Done 792 tasks      | elapsed: 13.3min\n",
      "[Parallel(n_jobs=4)]: Done 1242 tasks      | elapsed: 23.2min\n",
      "[Parallel(n_jobs=4)]: Done 1792 tasks      | elapsed: 30.8min\n",
      "[Parallel(n_jobs=4)]: Done 2442 tasks      | elapsed: 40.6min\n",
      "[Parallel(n_jobs=4)]: Done 3192 tasks      | elapsed: 53.1min\n",
      "[Parallel(n_jobs=4)]: Done 4000 out of 4000 | elapsed: 66.5min finished\n"
     ]
    },
    {
     "name": "stdout",
     "output_type": "stream",
     "text": [
      "Best hyperparameters:\n",
      " {'max_depth': 13, 'max_features': 'sqrt', 'min_samples_leaf': 0.001, 'min_samples_split': 20, 'n_estimators': 800}\n",
      "RMSE of rf: 202597.39\n",
      "MAE of rf: 123424.22\n",
      "Time needed for execution is 1.0  hours  395.57879662513733  minutes  36  seconds\n"
     ]
    }
   ],
   "source": [
    "#Training the model\n",
    "start = time.time()\n",
    "grid_rf.fit(X_train,y_train)\n",
    "print(\"Best hyperparameters:\\n\", grid_rf.best_params_)\n",
    "best_model = grid_rf.best_estimator_\n",
    "y_pred=best_model.predict(X_test)\n",
    "rmse_test = MSE(y_test,y_pred)**0.5\n",
    "mae = MAE(y_test,y_pred)\n",
    "print('RMSE of rf: {:.2f}'.format(rmse_test))\n",
    "print('MAE of rf: {:.2f}'.format(mae))\n",
    "end = time.time()\n",
    "\n",
    "display_time(start,end)"
   ]
  },
  {
   "cell_type": "markdown",
   "metadata": {},
   "source": [
    "### Tuning Random Forest"
   ]
  },
  {
   "cell_type": "code",
   "execution_count": 809,
   "metadata": {
    "collapsed": true
   },
   "outputs": [
    {
     "name": "stdout",
     "output_type": "stream",
     "text": [
      "Success\n",
      "Fitting 4 folds for each of 100 candidates, totalling 400 fits\n"
     ]
    },
    {
     "name": "stderr",
     "output_type": "stream",
     "text": [
      "[Parallel(n_jobs=4)]: Using backend LokyBackend with 4 concurrent workers.\n",
      "[Parallel(n_jobs=4)]: Done  42 tasks      | elapsed:   43.9s\n",
      "[Parallel(n_jobs=4)]: Done 192 tasks      | elapsed:  3.3min\n",
      "[Parallel(n_jobs=4)]: Done 400 out of 400 | elapsed:  6.4min finished\n"
     ]
    },
    {
     "name": "stdout",
     "output_type": "stream",
     "text": [
      "Best hyperparameters:\n",
      " {'n_estimators': 800, 'min_samples_split': 7, 'min_samples_leaf': 0.001, 'max_features': 'sqrt', 'max_depth': 14}\n",
      "RMSE of dt: 217261.32\n",
      "MAE of dt: 137931.97\n"
     ]
    }
   ],
   "source": [
    "from sklearn.model_selection import RandomizedSearchCV\n",
    "\n",
    "randomiz_rf = RandomizedSearchCV(estimator=rf,\n",
    "                                 param_distributions=params_rf,\n",
    "                                 n_iter=100,\n",
    "                                scoring='neg_mean_squared_error',\n",
    "                                 cv=4,\n",
    "                                 verbose=1,\n",
    "                                 n_jobs=4)\n",
    "\n",
    "randomiz_rf.fit(X_train,y_train)\n",
    "print(\"Best hyperparameters:\\n\", randomiz_rf.best_params_)\n",
    "best_model = randomiz_rf.best_estimator_\n",
    "y_pred=best_model.predict(X_test)\n",
    "rmse_test = MSE(y_test,y_pred)**0.5\n",
    "mae_test = MAE(y_test,y_pred)\n",
    "print('RMSE of dt: {:.2f}'.format(rmse_test))\n",
    "print('MAE of dt: {:.2f}'.format(mae_test))"
   ]
  },
  {
   "cell_type": "markdown",
   "metadata": {
    "collapsed": true
   },
   "source": [
    "## Boosting with Adaboost"
   ]
  },
  {
   "cell_type": "code",
   "execution_count": 810,
   "metadata": {
    "collapsed": true
   },
   "outputs": [],
   "source": [
    "from sklearn.ensemble import AdaBoostRegressor\n",
    "from sklearn.model_selection import RandomizedSearchCV\n",
    "dt = DecisionTreeRegressor()\n",
    "\n",
    "n_estimators = [int(x) for x in np.linspace(50,400,num=8)]\n",
    "learning_rate = [round(x,3) for x in np.logspace(0,-3,num=10)]\n",
    "param_dist = {\n",
    " 'n_estimators': n_estimators,\n",
    " 'learning_rate' : learning_rate,\n",
    " 'loss' : ['linear', 'square', 'exponential']\n",
    " }\n",
    "\n",
    "ada_rand = RandomizedSearchCV(AdaBoostRegressor(),\n",
    "                             param_distributions = param_dist,\n",
    "                              scoring='neg_mean_squared_error',\n",
    "                             cv=4,\n",
    "                              verbose=2,\n",
    "                             n_iter = 100,\n",
    "                             n_jobs=-1)\n"
   ]
  },
  {
   "cell_type": "code",
   "execution_count": 811,
   "metadata": {
    "collapsed": true
   },
   "outputs": [
    {
     "name": "stdout",
     "output_type": "stream",
     "text": [
      "Fitting 4 folds for each of 100 candidates, totalling 400 fits\n"
     ]
    },
    {
     "name": "stderr",
     "output_type": "stream",
     "text": [
      "[Parallel(n_jobs=-1)]: Using backend LokyBackend with 8 concurrent workers.\n",
      "[Parallel(n_jobs=-1)]: Done  25 tasks      | elapsed:    7.8s\n",
      "[Parallel(n_jobs=-1)]: Done 146 tasks      | elapsed:   47.8s\n",
      "[Parallel(n_jobs=-1)]: Done 349 tasks      | elapsed:  2.0min\n",
      "[Parallel(n_jobs=-1)]: Done 400 out of 400 | elapsed:  2.2min finished\n"
     ]
    },
    {
     "name": "stdout",
     "output_type": "stream",
     "text": [
      "Best hyperparameters:\n",
      " {'n_estimators': 50, 'loss': 'square', 'learning_rate': 0.002}\n",
      "RMSE of dt: 242047.56\n",
      "MAE of dt: 160046.04\n",
      "\n",
      "\n",
      "Time needed for execution is 2.0  minutes  13  seconds\n"
     ]
    }
   ],
   "source": [
    "#fitting and determining the best estimator \n",
    "\n",
    "start = time.time()\n",
    "ada_rand.fit(X_train, y_train)\n",
    "\n",
    "print(\"Best hyperparameters:\\n\", ada_rand.best_params_)\n",
    "\n",
    "best_model = ada_rand.best_estimator_\n",
    "y_pred=best_model.predict(X_test)\n",
    "\n",
    "rmse_test = MSE(y_test,y_pred)**0.5\n",
    "mae_test = MAE(y_test,y_pred)\n",
    "\n",
    "print('RMSE of dt: {:.2f}'.format(rmse_test))\n",
    "print('MAE of dt: {:.2f}'.format(mae_test))\n",
    "\n",
    "end = time.time()\n",
    "\n",
    "print('\\n')\n",
    "display_time(start,end)"
   ]
  },
  {
   "cell_type": "markdown",
   "metadata": {},
   "source": [
    "## Boosting with Gradient Boosting"
   ]
  },
  {
   "cell_type": "code",
   "execution_count": 813,
   "metadata": {
    "collapsed": true
   },
   "outputs": [],
   "source": [
    "from sklearn.ensemble import GradientBoostingRegressor\n",
    "gbr = GradientBoostingRegressor()\n",
    "\n",
    "#setting up parameter grid\n",
    "n_estimators = [int(x) for x in np.linspace(50,400,num=8)]\n",
    "learning_rate = [round(x,3) for x in np.logspace(0,-3,num=10)]\n",
    "max_depth = [int(x) for x in np.linspace(5,10,num=6)]\n",
    "\n",
    "param_grid = {'learning_rate': [0.1, 0.05, 0.02, 0.01, 0.005, 0.001],\n",
    "              'subsample':[0.7,0.8,0.9],\n",
    "              'n_estimators': n_estimators,\n",
    "              'max_depth':max_depth,\n",
    "              'max_features':['auto','sqrt'],\n",
    "              'min_samples_leaf':[0.005,0.0035,0.0025,0.0015,0.001],\n",
    "            'min_samples_split':[10,15,20,25]}"
   ]
  },
  {
   "cell_type": "code",
   "execution_count": 814,
   "metadata": {
    "collapsed": true
   },
   "outputs": [],
   "source": [
    "rand_gbr = RandomizedSearchCV(estimator=gbr,\n",
    "                             param_distributions=param_grid,\n",
    "                             scoring='neg_mean_squared_error',\n",
    "                             cv=4,\n",
    "                              verbose=2,\n",
    "                             n_iter = 1000,\n",
    "                             n_jobs=4)"
   ]
  },
  {
   "cell_type": "code",
   "execution_count": 815,
   "metadata": {
    "collapsed": true
   },
   "outputs": [
    {
     "name": "stdout",
     "output_type": "stream",
     "text": [
      "Fitting 4 folds for each of 1000 candidates, totalling 4000 fits\n"
     ]
    },
    {
     "name": "stderr",
     "output_type": "stream",
     "text": [
      "[Parallel(n_jobs=4)]: Using backend LokyBackend with 4 concurrent workers.\n",
      "[Parallel(n_jobs=4)]: Done  33 tasks      | elapsed:    7.8s\n",
      "[Parallel(n_jobs=4)]: Done 154 tasks      | elapsed:   34.7s\n",
      "[Parallel(n_jobs=4)]: Done 357 tasks      | elapsed:  1.4min\n",
      "[Parallel(n_jobs=4)]: Done 640 tasks      | elapsed:  2.6min\n",
      "[Parallel(n_jobs=4)]: Done 1005 tasks      | elapsed:  3.9min\n",
      "[Parallel(n_jobs=4)]: Done 1450 tasks      | elapsed:  5.4min\n",
      "[Parallel(n_jobs=4)]: Done 1977 tasks      | elapsed:  7.5min\n",
      "[Parallel(n_jobs=4)]: Done 2584 tasks      | elapsed:  9.8min\n",
      "[Parallel(n_jobs=4)]: Done 3273 tasks      | elapsed: 12.4min\n",
      "[Parallel(n_jobs=4)]: Done 4000 out of 4000 | elapsed: 15.2min finished\n"
     ]
    },
    {
     "name": "stdout",
     "output_type": "stream",
     "text": [
      "Best hyperparameters:\n",
      " {'subsample': 0.7, 'n_estimators': 100, 'min_samples_split': 25, 'min_samples_leaf': 0.001, 'max_features': 'sqrt', 'max_depth': 8, 'learning_rate': 0.05}\n",
      "RMSE of dt: 219237.86\n",
      "MAE of dt: 135039.67\n",
      "\n",
      "\n",
      "Time needed for execution is 15.0  minutes  12  seconds\n"
     ]
    }
   ],
   "source": [
    "start = time.time()\n",
    "rand_gbr.fit(X_train, y_train)\n",
    "\n",
    "print(\"Best hyperparameters:\\n\", rand_gbr.best_params_)\n",
    "\n",
    "best_model = rand_gbr.best_estimator_\n",
    "y_pred=best_model.predict(X_test)\n",
    "\n",
    "rmse_test = MSE(y_test,y_pred)**0.5\n",
    "mae_test = MAE(y_test,y_pred)\n",
    "\n",
    "print('RMSE of dt: {:.2f}'.format(rmse_test))\n",
    "print('MAE of dt: {:.2f}'.format(mae_test))\n",
    "\n",
    "end = time.time()\n",
    "\n",
    "print('\\n')\n",
    "display_time(start,end)"
   ]
  },
  {
   "cell_type": "code",
   "execution_count": 838,
   "metadata": {
    "collapsed": true
   },
   "outputs": [],
   "source": [
    "n_estimators = [int(x) for x in np.linspace(300,500,num=5)]\n",
    "\n",
    "\n",
    "param_grid = {'learning_rate': [0.02,0.015,0.01,0.005,0.001],\n",
    "              'n_estimators':n_estimators,\n",
    "              'subsample':[0.7,0.8,0.9],\n",
    "              'max_depth':[7,8,9],\n",
    "              'max_features':['auto','sqrt'],\n",
    "              'min_samples_leaf':[0.004,0.0035,0.003,0.0025,0.0015],\n",
    "            'min_samples_split':[7,10,15,20,25]}"
   ]
  },
  {
   "cell_type": "code",
   "execution_count": 839,
   "metadata": {
    "collapsed": true
   },
   "outputs": [],
   "source": [
    "grid_gbr = GridSearchCV(estimator=gbr,\n",
    "                       param_grid=param_grid,\n",
    "                       cv=4,\n",
    "                        scoring='neg_mean_squared_error',\n",
    "                       verbose = 1,\n",
    "                       n_jobs = 6,\n",
    "                       )"
   ]
  },
  {
   "cell_type": "code",
   "execution_count": null,
   "metadata": {
    "collapsed": true
   },
   "outputs": [
    {
     "name": "stdout",
     "output_type": "stream",
     "text": [
      "Fitting 4 folds for each of 11250 candidates, totalling 45000 fits\n"
     ]
    },
    {
     "name": "stderr",
     "output_type": "stream",
     "text": [
      "[Parallel(n_jobs=6)]: Using backend LokyBackend with 6 concurrent workers.\n",
      "[Parallel(n_jobs=6)]: Done  38 tasks      | elapsed:   16.8s\n",
      "[Parallel(n_jobs=6)]: Done 188 tasks      | elapsed:  1.2min\n",
      "[Parallel(n_jobs=6)]: Done 438 tasks      | elapsed:  2.6min\n",
      "[Parallel(n_jobs=6)]: Done 788 tasks      | elapsed:  4.7min\n",
      "[Parallel(n_jobs=6)]: Done 1238 tasks      | elapsed:  7.5min\n",
      "[Parallel(n_jobs=6)]: Done 1788 tasks      | elapsed:  9.9min\n",
      "[Parallel(n_jobs=6)]: Done 2438 tasks      | elapsed: 11.7min\n",
      "[Parallel(n_jobs=6)]: Done 3188 tasks      | elapsed: 14.5min\n",
      "[Parallel(n_jobs=6)]: Done 4038 tasks      | elapsed: 20.3min\n",
      "[Parallel(n_jobs=6)]: Done 4988 tasks      | elapsed: 25.1min\n",
      "[Parallel(n_jobs=6)]: Done 6038 tasks      | elapsed: 28.5min\n",
      "[Parallel(n_jobs=6)]: Done 7188 tasks      | elapsed: 37.4min\n",
      "[Parallel(n_jobs=6)]: Done 8438 tasks      | elapsed: 43.1min\n",
      "[Parallel(n_jobs=6)]: Done 9788 tasks      | elapsed: 50.0min\n"
     ]
    }
   ],
   "source": [
    "start = time.time()\n",
    "grid_gbr.fit(X_train, y_train)\n",
    "\n",
    "print(\"Best hyperparameters:\\n\", grid_gbr.best_params_)\n",
    "\n",
    "best_model = grid_gbr.best_estimator_\n",
    "y_pred=best_model.predict(X_test)\n",
    "\n",
    "rmse_test = MSE(y_test,y_pred)**0.5\n",
    "mae_test = MAE(y_test,y_pred)\n",
    "\n",
    "print('RMSE of dt: {:.2f}'.format(rmse_test))\n",
    "print('MAE of dt: {:.2f}'.format(mae_test))\n",
    "\n",
    "end = time.time()\n",
    "\n",
    "print('\\n')\n",
    "display_time(start,end)"
   ]
  },
  {
   "cell_type": "code",
   "execution_count": 813,
   "metadata": {
    "collapsed": true
   },
   "outputs": [
    {
     "data": {
      "text/plain": [
       "'May 06, 2020 03:00:50'"
      ]
     },
     "execution_count": 813,
     "metadata": {},
     "output_type": "execute_result"
    }
   ],
   "source": [
    "end= time.time()\n",
    "datetime.fromtimestamp(end).strftime(\"%B %d, %Y %I:%M:%S\")"
   ]
  },
  {
   "cell_type": "markdown",
   "metadata": {},
   "source": [
    "# Epic Ending here"
   ]
  }
 ],
 "metadata": {
  "kernelspec": {
   "display_name": "Python 3",
   "language": "python",
   "name": "python3"
  },
  "language_info": {
   "codemirror_mode": {
    "name": "ipython",
    "version": 3
   },
   "file_extension": ".py",
   "mimetype": "text/x-python",
   "name": "python",
   "nbconvert_exporter": "python",
   "pygments_lexer": "ipython3",
   "version": "3.7.4"
  }
 },
 "nbformat": 4,
 "nbformat_minor": 2
}
