{
 "cells": [
  {
   "cell_type": "code",
   "execution_count": 2175,
   "metadata": {},
   "outputs": [],
   "source": [
    "# Houses prices"
   ]
  },
  {
   "cell_type": "code",
   "execution_count": 2176,
   "metadata": {},
   "outputs": [
    {
     "name": "stdout",
     "output_type": "stream",
     "text": [
      "Libraries successfully imported\n"
     ]
    }
   ],
   "source": [
    "#Libraries import\n",
    "import numpy as np\n",
    "import seaborn as sns\n",
    "import pandas as pd\n",
    "import matplotlib.pyplot as plt\n",
    "%matplotlib inline \n",
    "sns.set(color_codes=True)\n",
    "pd.set_option('display.max_columns',None)\n",
    "print('Libraries successfully imported')"
   ]
  },
  {
   "cell_type": "code",
   "execution_count": 2177,
   "metadata": {},
   "outputs": [],
   "source": [
    "#importing data\n",
    "data = pd.read_csv('data.csv')\n",
    "#the below file is obtained from insure.com \n",
    "#comparing prices of living between neighbourhoods\n",
    "living_expence_index = pd.read_csv('zips.csv')\n"
   ]
  },
  {
   "cell_type": "code",
   "execution_count": 2178,
   "metadata": {},
   "outputs": [
    {
     "name": "stdout",
     "output_type": "stream",
     "text": [
      "SHAPE OF THE DATA\n",
      "(4600, 18)\n",
      "\n",
      "\n",
      "COLUMN NAMES\n",
      "Index(['date', 'price', 'bedrooms', 'bathrooms', 'sqft_living', 'sqft_lot',\n",
      "       'floors', 'waterfront', 'view', 'condition', 'sqft_above',\n",
      "       'sqft_basement', 'yr_built', 'yr_renovated', 'street', 'city',\n",
      "       'statezip', 'country'],\n",
      "      dtype='object')\n"
     ]
    }
   ],
   "source": [
    "#EDA\n",
    "print('SHAPE OF THE DATA')\n",
    "print(data.shape)\n",
    "print('\\n')\n",
    "print('COLUMN NAMES')\n",
    "print(data.columns)"
   ]
  },
  {
   "cell_type": "code",
   "execution_count": 2179,
   "metadata": {},
   "outputs": [
    {
     "name": "stdout",
     "output_type": "stream",
     "text": [
      "5 FIRST ROWS\n",
      "                  date      price  bedrooms  bathrooms  sqft_living  sqft_lot  \\\n",
      "0  2014-05-02 00:00:00   313000.0       3.0       1.50         1340      7912   \n",
      "1  2014-05-02 00:00:00  2384000.0       5.0       2.50         3650      9050   \n",
      "2  2014-05-02 00:00:00   342000.0       3.0       2.00         1930     11947   \n",
      "3  2014-05-02 00:00:00   420000.0       3.0       2.25         2000      8030   \n",
      "4  2014-05-02 00:00:00   550000.0       4.0       2.50         1940     10500   \n",
      "\n",
      "   floors  waterfront  view  condition  sqft_above  sqft_basement  yr_built  \\\n",
      "0     1.5           0     0          3        1340              0      1955   \n",
      "1     2.0           0     4          5        3370            280      1921   \n",
      "2     1.0           0     0          4        1930              0      1966   \n",
      "3     1.0           0     0          4        1000           1000      1963   \n",
      "4     1.0           0     0          4        1140            800      1976   \n",
      "\n",
      "   yr_renovated                    street       city  statezip country  \n",
      "0          2005      18810 Densmore Ave N  Shoreline  WA 98133     USA  \n",
      "1             0           709 W Blaine St    Seattle  WA 98119     USA  \n",
      "2             0  26206-26214 143rd Ave SE       Kent  WA 98042     USA  \n",
      "3             0           857 170th Pl NE   Bellevue  WA 98008     USA  \n",
      "4          1992         9105 170th Ave NE    Redmond  WA 98052     USA  \n",
      "\n",
      "\n",
      "\n",
      "\n",
      "RANDOM SAMPLE\n",
      "                     date     price  bedrooms  bathrooms  sqft_living  \\\n",
      "575   2014-05-13 00:00:00  550000.0       7.0       4.00         3440   \n",
      "3848  2014-07-02 00:00:00  732000.0       3.0       3.75         2670   \n",
      "805   2014-05-16 00:00:00  725000.0       5.0       2.75         2830   \n",
      "681   2014-05-14 00:00:00  633100.0       4.0       2.50         2470   \n",
      "2574  2014-06-16 00:00:00  427000.0       3.0       2.50         1830   \n",
      "3114  2014-06-23 00:00:00  225000.0       3.0       1.75         1580   \n",
      "2176  2014-06-09 00:00:00  379000.0       4.0       1.50         2020   \n",
      "300   2014-05-07 00:00:00  226500.0       3.0       1.75         1640   \n",
      "1910  2014-06-04 00:00:00  261000.0       3.0       1.50         1810   \n",
      "231   2014-05-07 00:00:00  495000.0       3.0       1.00          990   \n",
      "\n",
      "      sqft_lot  floors  waterfront  view  condition  sqft_above  \\\n",
      "575       8100     2.0           0     0          3        3440   \n",
      "3848      6517     2.5           0     4          4        2020   \n",
      "805       5310     2.0           0     0          3        2830   \n",
      "681      33305     2.0           0     0          3        2470   \n",
      "2574     65340     1.0           0     0          3        1520   \n",
      "3114      8820     1.0           0     0          4        1580   \n",
      "2176      7560     1.0           0     0          4        2020   \n",
      "300      10762     1.0           0     0          3        1130   \n",
      "1910     29308     1.0           0     0          3         950   \n",
      "231       6000     1.0           0     0          3         990   \n",
      "\n",
      "      sqft_basement  yr_built  yr_renovated                    street  \\\n",
      "575               0      1970          2014             718 N 95th St   \n",
      "3848            650      1977             0     3741 Belvidere Ave SW   \n",
      "805               0      2006             0         11931 179th Pl NE   \n",
      "681               0      1993             0          26021 NE 25th St   \n",
      "2574            310      1991             0         44218 SE 161st Pl   \n",
      "3114              0      1967             0            31711 7th Pl S   \n",
      "2176              0      1960          2001        11303 146th Ave SE   \n",
      "300             510      1988          2000  27000-27080 201st Ave SE   \n",
      "1910            860      1983          2009         20609 SE 271st St   \n",
      "231               0      1943          2002           5628 NE 59th St   \n",
      "\n",
      "             city  statezip country  \n",
      "575       Seattle  WA 98103     USA  \n",
      "3848      Seattle  WA 98126     USA  \n",
      "805       Redmond  WA 98052     USA  \n",
      "681       Redmond  WA 98053     USA  \n",
      "2574   North Bend  WA 98045     USA  \n",
      "3114  Federal Way  WA 98003     USA  \n",
      "2176       Renton  WA 98059     USA  \n",
      "300     Covington  WA 98042     USA  \n",
      "1910    Covington  WA 98042     USA  \n",
      "231       Seattle  WA 98105     USA  \n"
     ]
    }
   ],
   "source": [
    "#EDA 2\n",
    "print('5 FIRST ROWS')\n",
    "print(data.head())\n",
    "print('\\n' * 3)\n",
    "print('RANDOM SAMPLE')\n",
    "print(data.sample(n=10))"
   ]
  },
  {
   "cell_type": "code",
   "execution_count": 2180,
   "metadata": {},
   "outputs": [
    {
     "name": "stdout",
     "output_type": "stream",
     "text": [
      "INFORMATION\n",
      "<class 'pandas.core.frame.DataFrame'>\n",
      "RangeIndex: 4600 entries, 0 to 4599\n",
      "Data columns (total 18 columns):\n",
      "date             4600 non-null object\n",
      "price            4600 non-null float64\n",
      "bedrooms         4600 non-null float64\n",
      "bathrooms        4600 non-null float64\n",
      "sqft_living      4600 non-null int64\n",
      "sqft_lot         4600 non-null int64\n",
      "floors           4600 non-null float64\n",
      "waterfront       4600 non-null int64\n",
      "view             4600 non-null int64\n",
      "condition        4600 non-null int64\n",
      "sqft_above       4600 non-null int64\n",
      "sqft_basement    4600 non-null int64\n",
      "yr_built         4600 non-null int64\n",
      "yr_renovated     4600 non-null int64\n",
      "street           4600 non-null object\n",
      "city             4600 non-null object\n",
      "statezip         4600 non-null object\n",
      "country          4600 non-null object\n",
      "dtypes: float64(4), int64(9), object(5)\n",
      "memory usage: 647.0+ KB\n",
      "None\n",
      "\n",
      "\n",
      "\n",
      "\n",
      "DESCRIPTION\n",
      "              price     bedrooms    bathrooms   sqft_living      sqft_lot  \\\n",
      "count  4.600000e+03  4600.000000  4600.000000   4600.000000  4.600000e+03   \n",
      "mean   5.519630e+05     3.400870     2.160815   2139.346957  1.485252e+04   \n",
      "std    5.638347e+05     0.908848     0.783781    963.206916  3.588444e+04   \n",
      "min    0.000000e+00     0.000000     0.000000    370.000000  6.380000e+02   \n",
      "25%    3.228750e+05     3.000000     1.750000   1460.000000  5.000750e+03   \n",
      "50%    4.609435e+05     3.000000     2.250000   1980.000000  7.683000e+03   \n",
      "75%    6.549625e+05     4.000000     2.500000   2620.000000  1.100125e+04   \n",
      "max    2.659000e+07     9.000000     8.000000  13540.000000  1.074218e+06   \n",
      "\n",
      "            floors   waterfront         view    condition   sqft_above  \\\n",
      "count  4600.000000  4600.000000  4600.000000  4600.000000  4600.000000   \n",
      "mean      1.512065     0.007174     0.240652     3.451739  1827.265435   \n",
      "std       0.538288     0.084404     0.778405     0.677230   862.168977   \n",
      "min       1.000000     0.000000     0.000000     1.000000   370.000000   \n",
      "25%       1.000000     0.000000     0.000000     3.000000  1190.000000   \n",
      "50%       1.500000     0.000000     0.000000     3.000000  1590.000000   \n",
      "75%       2.000000     0.000000     0.000000     4.000000  2300.000000   \n",
      "max       3.500000     1.000000     4.000000     5.000000  9410.000000   \n",
      "\n",
      "       sqft_basement     yr_built  yr_renovated  \n",
      "count    4600.000000  4600.000000   4600.000000  \n",
      "mean      312.081522  1970.786304    808.608261  \n",
      "std       464.137228    29.731848    979.414536  \n",
      "min         0.000000  1900.000000      0.000000  \n",
      "25%         0.000000  1951.000000      0.000000  \n",
      "50%         0.000000  1976.000000      0.000000  \n",
      "75%       610.000000  1997.000000   1999.000000  \n",
      "max      4820.000000  2014.000000   2014.000000  \n"
     ]
    }
   ],
   "source": [
    "# EDA 3\n",
    "print('INFORMATION')\n",
    "print(data.info())\n",
    "print('\\n' * 3)\n",
    "print('DESCRIPTION')\n",
    "print(data.describe())"
   ]
  },
  {
   "cell_type": "code",
   "execution_count": 2181,
   "metadata": {},
   "outputs": [
    {
     "name": "stdout",
     "output_type": "stream",
     "text": [
      "<class 'pandas.core.frame.DataFrame'>\n",
      "Int64Index: 4600 entries, 0 to 4599\n",
      "Data columns (total 21 columns):\n",
      "date                    4600 non-null datetime64[ns]\n",
      "price                   4600 non-null float64\n",
      "bedrooms                4600 non-null float64\n",
      "bathrooms               4600 non-null float64\n",
      "sqft_living             4600 non-null int64\n",
      "sqft_lot                4600 non-null int64\n",
      "floors                  4600 non-null float64\n",
      "waterfront              4600 non-null category\n",
      "view                    4600 non-null int64\n",
      "condition               4600 non-null int64\n",
      "sqft_above              4600 non-null int64\n",
      "sqft_basement           4600 non-null int64\n",
      "yr_built                4600 non-null int64\n",
      "yr_renovated            4600 non-null int64\n",
      "street                  4600 non-null object\n",
      "city                    4600 non-null category\n",
      "statezip                4600 non-null object\n",
      "country                 4600 non-null object\n",
      "state                   4600 non-null object\n",
      "zip                     4600 non-null int64\n",
      "cost of living index    4600 non-null float64\n",
      "dtypes: category(2), datetime64[ns](1), float64(5), int64(9), object(4)\n",
      "memory usage: 729.4+ KB\n",
      "None\n"
     ]
    }
   ],
   "source": [
    "#From EDA we see that we need to:\n",
    "#1 Convert date into date object\n",
    "data.date = pd.to_datetime(data.date)\n",
    "#2 Convert waterfront to categorical variable\n",
    "data.waterfront = data.waterfront.astype('category')\n",
    "#3 Convert city to categorical variable\n",
    "data.city = data.city.astype('category')\n",
    "#4 Separate zip and state and convert state to categorical variable\n",
    "data[['state','zip']] = data.statezip.str.split(expand=True)\n",
    "data.zip = data.zip.astype('int64')\n",
    "#5 Join living expence index column to 'data'\n",
    "data = pd.merge(data,living_expence_index,on='zip',how='inner')\n",
    "\n",
    "print(data.info())\n"
   ]
  },
  {
   "cell_type": "code",
   "execution_count": 2182,
   "metadata": {},
   "outputs": [
    {
     "name": "stdout",
     "output_type": "stream",
     "text": [
      "                           price\n",
      "cost of living index            \n",
      "0.6989                  320000.0\n",
      "0.9974                 1700000.0\n",
      "0.9981                 7062500.0\n",
      "0.9987                 3710000.0\n",
      "0.9994                 4668000.0\n",
      "1.0000                12899000.0\n",
      "1.0006                26590000.0\n",
      "1.0013                  819000.0\n",
      "1.0019                  664950.0\n",
      "1.0026                 2110000.0 \n",
      "\n",
      "[array([[ 1.        , -0.02451742],\n",
      "       [-0.02451742,  1.        ]])] \n",
      "\n",
      "1.0000    1864\n",
      "0.9981     784\n",
      "1.0006     575\n",
      "0.9987     515\n",
      "0.9994     347\n",
      "1.0013     223\n",
      "0.9974     174\n",
      "1.0026      67\n",
      "1.0019      49\n",
      "0.6989       2\n",
      "Name: cost of living index, dtype: int64\n"
     ]
    }
   ],
   "source": [
    "print(data[['cost of living index','price']]\n",
    "      .groupby('cost of living index').max()\n",
    "      .sort_values(by='cost of living index'),'\\n')\n",
    "\n",
    "print([np.corrcoef(data['cost of living index'],data['price'])],'\\n')\n",
    "print(data['cost of living index'].value_counts())"
   ]
  },
  {
   "cell_type": "code",
   "execution_count": 2183,
   "metadata": {},
   "outputs": [
    {
     "data": {
      "image/png": "[encoded data removed]",
      "text/plain": [
       "<Figure size 432x288 with 1 Axes>"
      ]
     },
     "metadata": {},
     "output_type": "display_data"
    }
   ],
   "source": [
    "#Exploring yet further in visual EDA\n",
    "yr_blt_val_count = data.yr_built.value_counts()\n",
    "plt.bar(yr_blt_val_count.index,yr_blt_val_count.values,color = 'blue')\n",
    "plt.title('Year built distribution')\n",
    "plt.show()"
   ]
  },
  {
   "cell_type": "code",
   "execution_count": 2184,
   "metadata": {},
   "outputs": [
    {
     "data": {
      "image/png": "[encoded data removed]",
      "text/plain": [
       "<Figure size 432x288 with 1 Axes>"
      ]
     },
     "metadata": {},
     "output_type": "display_data"
    }
   ],
   "source": [
    "yr_ren_val_count = data.yr_renovated.value_counts()\n",
    "plt.bar(yr_ren_val_count.index,yr_ren_val_count.values,log=True,color='black',edgecolor='black')\n",
    "plt.title('Year renovated log distribution')\n",
    "plt.show()\n",
    "\n",
    "#It appears some of the houses has not been renovated at all.\n",
    "#The distribution of Yr_renovated may bewilder the model. \n",
    "#Think about converting it to factor or getting rid of it completely.\n",
    "#May want to convert both of those varables into 'years since built or renovated'\n"
   ]
  },
  {
   "cell_type": "code",
   "execution_count": 2185,
   "metadata": {},
   "outputs": [
    {
     "name": "stdout",
     "output_type": "stream",
     "text": [
      "Success\n"
     ]
    }
   ],
   "source": [
    "#Function for creating house age feature\n",
    "def house_age(year_built,year_renovated):\n",
    "    '''This function takes two arguments: columns year built and year renovated and defines how much time passed since the house was built or renovated'''\n",
    "    diff = []\n",
    "    for i in range(0,len(year_built)):\n",
    "        if year_renovated[i] == 0:\n",
    "            diff.append(2020-year_built[i])\n",
    "        else:\n",
    "            diff.append(2020-year_renovated[i])\n",
    "    return diff\n",
    "print('Success')"
   ]
  },
  {
   "cell_type": "code",
   "execution_count": 2186,
   "metadata": {},
   "outputs": [
    {
     "name": "stdout",
     "output_type": "stream",
     "text": [
      "        date     price  bedrooms  bathrooms  sqft_living  sqft_lot  floors  \\\n",
      "0 2014-05-02  313000.0       3.0       1.50         1340      7912     1.5   \n",
      "1 2014-05-05  435000.0       5.0       2.00         1840      9240     1.0   \n",
      "2 2014-05-05  379950.0       4.0       1.75         1970      9389     1.0   \n",
      "3 2014-05-05  449250.0       4.0       2.00         1480      3844     1.5   \n",
      "4 2014-05-05  329950.0       2.0       1.00         1140      5250     1.5   \n",
      "\n",
      "  waterfront  view  condition  sqft_above  sqft_basement  yr_built  \\\n",
      "0          0     0          3        1340              0      1955   \n",
      "1          0     0          4        1540            300      1942   \n",
      "2          0     0          5        1140            830      1960   \n",
      "3          0     0          5        1480              0      1928   \n",
      "4          0     0          4        1140              0      1949   \n",
      "\n",
      "   yr_renovated                street       city  statezip country state  \\\n",
      "0          2005  18810 Densmore Ave N  Shoreline  WA 98133     USA    WA   \n",
      "1          1958  14013 Ashworth Ave N    Seattle  WA 98133     USA    WA   \n",
      "2             0       1701 N 204th Pl  Shoreline  WA 98133     USA    WA   \n",
      "3          1970        519 N 104th St    Seattle  WA 98133     USA    WA   \n",
      "4          1985     14017 Roslyn Pl N    Seattle  WA 98133     USA    WA   \n",
      "\n",
      "     zip  cost of living index  house_age  \n",
      "0  98133                   1.0         15  \n",
      "1  98133                   1.0         62  \n",
      "2  98133                   1.0         60  \n",
      "3  98133                   1.0         50  \n",
      "4  98133                   1.0         35  \n"
     ]
    }
   ],
   "source": [
    "#The coulumn house_age in data will show the number of years passed since the house was built or renovated\n",
    "age = house_age(data.yr_built,data.yr_renovated)\n",
    "data['house_age'] = age\n",
    "print(data.head())"
   ]
  },
  {
   "cell_type": "code",
   "execution_count": 2187,
   "metadata": {},
   "outputs": [
    {
     "data": {
      "image/png": "[encoded data removed]",
      "text/plain": [
       "<Figure size 432x288 with 1 Axes>"
      ]
     },
     "metadata": {},
     "output_type": "display_data"
    }
   ],
   "source": [
    "#Looking at price destribution\n",
    "#Distribution of price by number of bedrooms is the most interesting. \n",
    "data.boxplot(column='price', by='bedrooms')\n",
    "plt.ylim(0,4000000)\n",
    "plt.show()\n",
    "#Number of bedrooms may be our strongest predictor"
   ]
  },
  {
   "cell_type": "code",
   "execution_count": 2188,
   "metadata": {},
   "outputs": [
    {
     "data": {
      "image/png": "[encoded data removed]",
      "text/plain": [
       "<Figure size 432x288 with 1 Axes>"
      ]
     },
     "metadata": {},
     "output_type": "display_data"
    }
   ],
   "source": [
    "#Seaborn count plot\n",
    "sns.countplot(data=data, y=\"condition\")\n",
    "plt.title('Count of Condition by view')\n",
    "plt.show()"
   ]
  },
  {
   "cell_type": "code",
   "execution_count": 2189,
   "metadata": {},
   "outputs": [
    {
     "data": {
      "image/png": "[encoded data removed]",
      "text/plain": [
       "<Figure size 432x288 with 1 Axes>"
      ]
     },
     "metadata": {},
     "output_type": "display_data"
    }
   ],
   "source": [
    "#Seaborn count plot\n",
    "sns.countplot(data=data, y=\"view\")\n",
    "plt.title('Count of view')\n",
    "plt.show()\n",
    "#Here 0 most likely represents the missing data and not the complete absence of view"
   ]
  },
  {
   "cell_type": "code",
   "execution_count": 2190,
   "metadata": {},
   "outputs": [
    {
     "data": {
      "image/png": "[encoded data removed]",
      "text/plain": [
       "<Figure size 432x288 with 1 Axes>"
      ]
     },
     "metadata": {},
     "output_type": "display_data"
    }
   ],
   "source": [
    "#changing the scale of the view\n",
    "if min(data['view']) ==0:\n",
    "    data['view'] = data.view +1\n",
    "    \n",
    "sns.countplot(data=data, y=\"view\")\n",
    "plt.title('Count of view')\n",
    "plt.show()\n",
    "#the decision tree works better with the rescaled variable"
   ]
  },
  {
   "cell_type": "code",
   "execution_count": 2191,
   "metadata": {},
   "outputs": [
    {
     "data": {
      "image/png": "[encoded data removed]",
      "text/plain": [
       "<Figure size 432x288 with 1 Axes>"
      ]
     },
     "metadata": {},
     "output_type": "display_data"
    }
   ],
   "source": [
    "#Seaborn regression plot\n",
    "sns.regplot(data=data, x='bedrooms',y='price', order=1)\n",
    "plt.title('Regression plot')\n",
    "plt.show()\n",
    "#It looks like we may have influential poins\n",
    "#which have to be further investigated on the model builiding step\n",
    "\n"
   ]
  },
  {
   "cell_type": "code",
   "execution_count": 2192,
   "metadata": {},
   "outputs": [
    {
     "data": {
      "image/png": "[encoded data removed]",
      "text/plain": [
       "<Figure size 432x288 with 2 Axes>"
      ]
     },
     "metadata": {},
     "output_type": "display_data"
    },
    {
     "name": "stdout",
     "output_type": "stream",
     "text": [
      "\n",
      "\n",
      "\n",
      "\n",
      "                      bedrooms  bathrooms  sqft_living  sqft_lot    floors  \\\n",
      "bedrooms              1.000000   0.545920     0.594884  0.068819  0.177895   \n",
      "bathrooms             0.545920   1.000000     0.761154  0.107837  0.486428   \n",
      "sqft_living           0.594884   0.761154     1.000000  0.210538  0.344850   \n",
      "sqft_lot              0.068819   0.107837     0.210538  1.000000  0.003750   \n",
      "floors                0.177895   0.486428     0.344850  0.003750  1.000000   \n",
      "view                  0.111028   0.211960     0.311009  0.073907  0.031211   \n",
      "condition             0.025080  -0.119994    -0.062826  0.000558 -0.275013   \n",
      "sqft_above            0.484705   0.689918     0.876443  0.216455  0.522814   \n",
      "sqft_basement         0.334165   0.298020     0.447206  0.034842 -0.255510   \n",
      "yr_built              0.142461   0.463498     0.287775  0.050706  0.467481   \n",
      "yr_renovated         -0.061082  -0.215886    -0.122817 -0.022730 -0.233996   \n",
      "zip                  -0.153443  -0.206231    -0.210891 -0.133509 -0.064999   \n",
      "cost of living index -0.014313  -0.033089    -0.030126 -0.016962 -0.004965   \n",
      "house_age            -0.026499  -0.170196    -0.099957 -0.029112 -0.187006   \n",
      "\n",
      "                          view  condition  sqft_above  sqft_basement  \\\n",
      "bedrooms              0.111028   0.025080    0.484705       0.334165   \n",
      "bathrooms             0.211960  -0.119994    0.689918       0.298020   \n",
      "sqft_living           0.311009  -0.062826    0.876443       0.447206   \n",
      "sqft_lot              0.073907   0.000558    0.216455       0.034842   \n",
      "floors                0.031211  -0.275013    0.522814      -0.255510   \n",
      "view                  1.000000   0.063077    0.174327       0.321602   \n",
      "condition             0.063077   1.000000   -0.178196       0.200632   \n",
      "sqft_above            0.174327  -0.178196    1.000000      -0.038723   \n",
      "sqft_basement         0.321602   0.200632   -0.038723       1.000000   \n",
      "yr_built             -0.064465  -0.399698    0.408535      -0.161675   \n",
      "yr_renovated          0.022967  -0.186818   -0.160426       0.043125   \n",
      "zip                   0.095302   0.038038   -0.270585       0.064977   \n",
      "cost of living index  0.006431  -0.006598   -0.041143       0.013907   \n",
      "house_age             0.023304   0.514397   -0.163970       0.097149   \n",
      "\n",
      "                      yr_built  yr_renovated       zip  cost of living index  \\\n",
      "bedrooms              0.142461     -0.061082 -0.153443             -0.014313   \n",
      "bathrooms             0.463498     -0.215886 -0.206231             -0.033089   \n",
      "sqft_living           0.287775     -0.122817 -0.210891             -0.030126   \n",
      "sqft_lot              0.050706     -0.022730 -0.133509             -0.016962   \n",
      "floors                0.467481     -0.233996 -0.064999             -0.004965   \n",
      "view                 -0.064465      0.022967  0.095302              0.006431   \n",
      "condition            -0.399698     -0.186818  0.038038             -0.006598   \n",
      "sqft_above            0.408535     -0.160426 -0.270585             -0.041143   \n",
      "sqft_basement        -0.161675      0.043125  0.064977              0.013907   \n",
      "yr_built              1.000000     -0.321342 -0.356920             -0.052430   \n",
      "yr_renovated         -0.321342      1.000000  0.170387              0.033339   \n",
      "zip                  -0.356920      0.170387  1.000000             -0.029142   \n",
      "cost of living index -0.052430      0.033339 -0.029142              1.000000   \n",
      "house_age            -0.460791     -0.295370  0.121575              0.018395   \n",
      "\n",
      "                      house_age  \n",
      "bedrooms              -0.026499  \n",
      "bathrooms             -0.170196  \n",
      "sqft_living           -0.099957  \n",
      "sqft_lot              -0.029112  \n",
      "floors                -0.187006  \n",
      "view                   0.023304  \n",
      "condition              0.514397  \n",
      "sqft_above            -0.163970  \n",
      "sqft_basement          0.097149  \n",
      "yr_built              -0.460791  \n",
      "yr_renovated          -0.295370  \n",
      "zip                    0.121575  \n",
      "cost of living index   0.018395  \n",
      "house_age              1.000000  \n"
     ]
    }
   ],
   "source": [
    "#Features correlation\n",
    "data1 = data.drop('price',axis=1)\n",
    "#plt.figure(figsize=(18, 16), dpi= 80, facecolor='w', edgecolor='k')\n",
    "sns.heatmap(data1.corr(),cmap=\"YlGnBu\")\n",
    "plt.title('Features\\' correlation' )\n",
    "plt.show()\n",
    "# individual correlations\n",
    "print('\\n'*3)\n",
    "print(data1.corr())\n"
   ]
  },
  {
   "cell_type": "code",
   "execution_count": 2193,
   "metadata": {},
   "outputs": [],
   "source": [
    "#correlated variables\n",
    "#sqft_living & bathrooms & bedrooms &sqft living"
   ]
  },
  {
   "cell_type": "code",
   "execution_count": 2194,
   "metadata": {},
   "outputs": [
    {
     "name": "stdout",
     "output_type": "stream",
     "text": [
      "min date is 2014-05-02 00:00:00\n",
      "max date is 2014-07-10 00:00:00\n"
     ]
    }
   ],
   "source": [
    "#Exploring dates\n",
    "print('min date is',min(data.date))\n",
    "print('max date is',max(data.date))\n",
    "#Since our timeframe too short to explore house price changes by season we'll not consider dates in this project"
   ]
  },
  {
   "cell_type": "code",
   "execution_count": 2195,
   "metadata": {},
   "outputs": [
    {
     "name": "stdout",
     "output_type": "stream",
     "text": [
      "[3. 5. 4. 2. 1. 8. 6. 7. 0. 9.]\n",
      "\n",
      "\n",
      "\n",
      "           date      price  bedrooms  bathrooms  sqft_living  sqft_lot  \\\n",
      "1305 2014-06-12  1095000.0       0.0        0.0         3064      4764   \n",
      "2891 2014-06-24  1295648.0       0.0        0.0         4810     28008   \n",
      "\n",
      "      floors waterfront  view  condition  sqft_above  sqft_basement  yr_built  \\\n",
      "1305     3.5          0     3          3        3064              0      1990   \n",
      "2891     2.0          0     1          3        4810              0      1990   \n",
      "\n",
      "      yr_renovated            street     city  statezip country state    zip  \\\n",
      "1305          2009     814 E Howe St  Seattle  WA 98102     USA    WA  98102   \n",
      "2891          2009  20418 NE 64th Pl  Redmond  WA 98053     USA    WA  98053   \n",
      "\n",
      "      cost of living index  house_age  \n",
      "1305                1.0000         11  \n",
      "2891                0.9987         11  \n",
      "\n",
      "\n",
      "\n",
      "The number of houses with 0 bedrooms is 2\n",
      "\n",
      "\n",
      "\n",
      "['USA']\n",
      "\n",
      "\n",
      "\n",
      "['WA']\n",
      "\n",
      "\n",
      "\n",
      "There are 4525 unique streets in our dataset\n"
     ]
    }
   ],
   "source": [
    "#Exploring anomalies\n",
    "\n",
    "# 0 bedrooms\n",
    "print(pd.unique(data.bedrooms))\n",
    "print('\\n'*2)\n",
    "#It looks like we have 0 bedrooms in some houses\n",
    "print(data[data.bedrooms == 0])\n",
    "print('\\n'*2)\n",
    "#It's hardly believable that houses for over 1 million dollars \n",
    "#don't have any bedrooms\n",
    "print(\"The number of houses with 0 bedrooms is\", data[data.bedrooms == 0].bedrooms.count())\n",
    "print('\\n'*2)\n",
    "#There are only two of these observations so we can harmlessly\n",
    "#removed them from our dataset\n",
    "# Countries\n",
    "print(pd.unique(data.country)) \n",
    "#The country is always USA so we can remove this variable\n",
    "print('\\n'*2)\n",
    "# states\n",
    "print(pd.unique(data.state)) \n",
    "#The state is always WA so we can remove this variable\n",
    "print('\\n'*2)\n",
    "# Streets\n",
    "print('There are',data.street.value_counts().count(),'unique streets in our dataset')\n",
    "# Since we are not going to do geographic analysis here we can remove\n",
    "# the street variable as it's not going to work as factor in this case"
   ]
  },
  {
   "cell_type": "code",
   "execution_count": 2196,
   "metadata": {},
   "outputs": [],
   "source": [
    "# Cleaning\n",
    "# Dropping columns and rows\n",
    "#data['bath_bed'] = data.bathrooms*data.bedrooms\n",
    "data = data.drop(data[data.bedrooms == 0].index,axis=0) \n",
    "data = data.drop(data[data.price>5000000].index,axis=0)\n",
    "data = data.drop(['date','statezip','street','country',\n",
    "                  'state','zip','yr_built','yr_renovated',\n",
    "                  'city'],axis=1)\n",
    "\n",
    "#As the gap in the index was created we'll need to reset index\n",
    "data.reset_index(inplace=True,drop=True)\n"
   ]
  },
  {
   "cell_type": "code",
   "execution_count": 2197,
   "metadata": {},
   "outputs": [
    {
     "data": {
      "image/png": "[encoded data removed]",
      "text/plain": [
       "<Figure size 1440x1280 with 2 Axes>"
      ]
     },
     "metadata": {},
     "output_type": "display_data"
    }
   ],
   "source": [
    "data1=data.drop('price',axis=1)\n",
    "plt.figure(figsize=(18, 16), dpi= 80, facecolor='w', edgecolor='k')\n",
    "sns.heatmap(data1.corr(),cmap=\"YlGnBu\")\n",
    "plt.title('Features\\' correlation' )\n",
    "plt.show()\n",
    "#print(data1.corr()[data1.corr()>0.5])"
   ]
  },
  {
   "cell_type": "code",
   "execution_count": 2198,
   "metadata": {},
   "outputs": [],
   "source": [
    "#Other variables with high correlation will be discarded by the model \n",
    "#during node splitting"
   ]
  },
  {
   "cell_type": "code",
   "execution_count": 2199,
   "metadata": {},
   "outputs": [],
   "source": [
    "#Model building step"
   ]
  },
  {
   "cell_type": "code",
   "execution_count": 2200,
   "metadata": {},
   "outputs": [
    {
     "name": "stdout",
     "output_type": "stream",
     "text": [
      "Libraries successfully imported\n"
     ]
    }
   ],
   "source": [
    "#Importing neccessary libraries\n",
    "from sklearn.tree import DecisionTreeRegressor\n",
    "from sklearn.model_selection import train_test_split\n",
    "from sklearn.model_selection import cross_val_score\n",
    "from sklearn.metrics import mean_squared_error as MSE\n",
    "print('Libraries successfully imported')"
   ]
  },
  {
   "cell_type": "code",
   "execution_count": 2201,
   "metadata": {},
   "outputs": [],
   "source": [
    "#Splitting the data\n",
    "X=data.drop('price',axis=1)\n",
    "y=data['price']\n",
    "X_train,X_test,y_train,y_test = train_test_split(X,y,test_size = 0.2)"
   ]
  },
  {
   "cell_type": "raw",
   "metadata": {},
   "source": [
    "X_train.to_csv('X_train.csv')\n",
    "X_test.to_csv('X_test.csv')\n",
    "y_train.to_csv('y_train.csv')\n",
    "y_test.to_csv('y_test.csv')\n"
   ]
  },
  {
   "cell_type": "raw",
   "metadata": {},
   "source": [
    "X_train = pd.read_csv('X_train.csv')\n",
    "X_test=pd.read_csv('X_test.csv')\n",
    "y_train=pd.read_csv('y_train.csv')\n",
    "y_test=dp.read_csv('y_test.csv')"
   ]
  },
  {
   "cell_type": "code",
   "execution_count": 2202,
   "metadata": {},
   "outputs": [],
   "source": [
    "#Setting up random forest\n",
    "from sklearn.ensemble import RandomForestRegressor\n",
    "from sklearn.model_selection import GridSearchCV\n",
    "from sklearn.metrics import mean_absolute_error as MAE\n",
    "import time"
   ]
  },
  {
   "cell_type": "code",
   "execution_count": 2203,
   "metadata": {},
   "outputs": [],
   "source": [
    "from datetime import datetime\n",
    "import time\n",
    "\n",
    "#displaying time\n",
    "def display_time (start,end):\n",
    "    if (end-start)>3600:\n",
    "        hours = (end-start)//3600\n",
    "        minutes = (end-start)%3600\n",
    "        seconds = (end-start)%60\n",
    "        print('Time needed for execution is',hours,' hours ',minutes,' minutes ',round(seconds),' seconds')\n",
    "    elif (end-start)>60:\n",
    "        minutes = (end-start)//60\n",
    "        seconds = (end-start)%60\n",
    "        print('Time needed for execution is',minutes,' minutes ',round(seconds),' seconds')\n",
    "    else :\n",
    "        seconds = end-start\n",
    "        print('Time needed for execution is',round(seconds),' seconds')\n",
    "    \n"
   ]
  },
  {
   "cell_type": "code",
   "execution_count": 2204,
   "metadata": {},
   "outputs": [
    {
     "name": "stdout",
     "output_type": "stream",
     "text": [
      "Done\n"
     ]
    }
   ],
   "source": [
    "#Instantiating the model\n",
    "dt = DecisionTreeRegressor(random_state=33) #criterion = 'mae'\n",
    "\n",
    "#Creating parameter grid\n",
    "max_depth = [int(x) for x in np.linspace(4, 11, num = 8)]\n",
    "\n",
    "params_dt = {   'max_depth': max_depth,\n",
    "                'max_features':['auto','sqrt'],\n",
    "                'min_samples_leaf':[0.015,0.01,0.005,0.0035],\n",
    "                'min_samples_split':[30,45,50,55,60,75]}\n",
    "print('Done')"
   ]
  },
  {
   "cell_type": "code",
   "execution_count": 2205,
   "metadata": {},
   "outputs": [],
   "source": [
    "#Instantiating the Grid Search\n",
    "grid_dt = GridSearchCV(estimator=dt,\n",
    "                      param_grid=params_dt,\n",
    "                      scoring='neg_mean_squared_error',\n",
    "                       cv=4,\n",
    "                       verbose=1,\n",
    "                       n_jobs=-1,)\n",
    "\n"
   ]
  },
  {
   "cell_type": "code",
   "execution_count": 2206,
   "metadata": {},
   "outputs": [
    {
     "name": "stdout",
     "output_type": "stream",
     "text": [
      "Fitting 4 folds for each of 384 candidates, totalling 1536 fits\n"
     ]
    },
    {
     "name": "stderr",
     "output_type": "stream",
     "text": [
      "[Parallel(n_jobs=-1)]: Using backend LokyBackend with 8 concurrent workers.\n",
      "[Parallel(n_jobs=-1)]: Done 304 tasks      | elapsed:    0.7s\n"
     ]
    },
    {
     "name": "stdout",
     "output_type": "stream",
     "text": [
      "Best hyperparameters:\n",
      " {'max_depth': 10, 'max_features': 'auto', 'min_samples_leaf': 0.015, 'min_samples_split': 30}\n",
      "RMSE of dt: 286417.10\n",
      "MAE of dt: 174903.53\n",
      "Time needed for execution is 4  seconds\n",
      "Ended at May 19, 01:22:04\n"
     ]
    },
    {
     "name": "stderr",
     "output_type": "stream",
     "text": [
      "[Parallel(n_jobs=-1)]: Done 1536 out of 1536 | elapsed:    3.4s finished\n"
     ]
    }
   ],
   "source": [
    "#Training the model\n",
    "start=time.time()\n",
    "\n",
    "grid_dt.fit(X_train,y_train)\n",
    "\n",
    "print(\"Best hyperparameters:\\n\", grid_dt.best_params_)\n",
    "\n",
    "best_model = grid_dt.best_estimator_\n",
    "best_score = grid_dt.best_score_\n",
    "y_pred=best_model.predict(X_test)\n",
    "rmse_test = MSE(y_test,y_pred)**0.5\n",
    "mae_test = MAE(y_test,y_pred)\n",
    "print('RMSE of dt: {:.2f}'.format(rmse_test))\n",
    "print('MAE of dt: {:.2f}'.format(mae_test))\n",
    "end = time.time()\n",
    "\n",
    "display_time(start,end)\n",
    "\n",
    "\n",
    "print('Ended at',datetime.fromtimestamp(end).strftime(\"%B %d, %I:%M:%S\"))"
   ]
  },
  {
   "cell_type": "code",
   "execution_count": 2208,
   "metadata": {},
   "outputs": [
    {
     "name": "stdout",
     "output_type": "stream",
     "text": [
      "with feature 244.375 without feature 262.5\n"
     ]
    }
   ],
   "source": [
    "without_feature = [261,241,284,259,276,244,271,264]\n",
    "with_feature = [241,258,244,263,230,239,267,213]\n",
    "print('with feature',np.mean(with_feature),\n",
    "'without feature',np.mean(without_feature))"
   ]
  },
  {
   "cell_type": "code",
   "execution_count": 803,
   "metadata": {},
   "outputs": [
    {
     "name": "stdout",
     "output_type": "stream",
     "text": [
      "Square root of the Mean Squared error:231298.08\n"
     ]
    }
   ],
   "source": [
    "#Let's explore the underfitting and overfitting\n",
    "#fitting and predicting\n",
    "#dt.fit(X_train,y_train)\n",
    "y_pred_train = best_model.predict(X_train)\n",
    "mse_dt = MSE(y_train,y_pred_train)\n",
    "rmse_dt = mse_dt**0.5\n",
    "print('Square root of the Mean Squared error:{:.2f}'.format(rmse_dt))"
   ]
  },
  {
   "cell_type": "code",
   "execution_count": 804,
   "metadata": {},
   "outputs": [
    {
     "name": "stdout",
     "output_type": "stream",
     "text": [
      "CV RMSE: 260461.75\n"
     ]
    }
   ],
   "source": [
    "#Cross validation\n",
    "MSE_CV_scores = -cross_val_score(best_model, X_train,y_train, cv=10, \n",
    "                       scoring='neg_mean_squared_error',\n",
    "                       n_jobs=-1)\n",
    "\n",
    "RMSE_CV = (MSE_CV_scores.mean())**(0.5)\n",
    "\n",
    "# Print RMSE_CV\n",
    "print('CV RMSE: {:.2f}'.format(RMSE_CV))"
   ]
  },
  {
   "cell_type": "code",
   "execution_count": 318,
   "metadata": {},
   "outputs": [
    {
     "name": "stdout",
     "output_type": "stream",
     "text": [
      "Square root of the Mean Squared error:313226.86\n"
     ]
    }
   ],
   "source": [
    "#fitting and predicting\n",
    "dt.fit(X_train,y_train)\n",
    "y_pred = dt.predict(X_test)\n",
    "mse_dt = MSE(y_pred,y_test)\n",
    "rmse_dt = mse_dt**0.5\n",
    "print('Square root of the Mean Squared error:{:.2f}'.format(rmse_dt))"
   ]
  },
  {
   "cell_type": "code",
   "execution_count": 805,
   "metadata": {},
   "outputs": [
    {
     "name": "stderr",
     "output_type": "stream",
     "text": [
      "C:\\ProgramData\\Anaconda3\\lib\\site-packages\\sklearn\\ensemble\\forest.py:245: FutureWarning: The default value of n_estimators will change from 10 in version 0.20 to 100 in 0.22.\n",
      "  \"10 in version 0.20 to 100 in 0.22.\", FutureWarning)\n"
     ]
    },
    {
     "data": {
      "image/png": "[encoded data removed]",
      "text/plain": [
       "<Figure size 432x288 with 1 Axes>"
      ]
     },
     "metadata": {},
     "output_type": "display_data"
    }
   ],
   "source": [
    "#visualizing feature importance\n",
    "rf=RandomForestRegressor()\n",
    "rf.fit(X_train,y_train)\n",
    "importances = pd.Series(data=rf.feature_importances_,\n",
    "                        index= X_train.columns)\n",
    "\n",
    "# Sort importances\n",
    "importances_sorted = importances.sort_values()\n",
    "\n",
    "# Draw a horizontal barplot of importances_sorted\n",
    "importances_sorted.plot(kind='barh', color = 'lightgreen')\n",
    "plt.title('Features Importances')\n",
    "plt.show()"
   ]
  },
  {
   "cell_type": "code",
   "execution_count": 806,
   "metadata": {},
   "outputs": [],
   "source": [
    "#Instantiating Random Forest \n",
    "rf=RandomForestRegressor()"
   ]
  },
  {
   "cell_type": "code",
   "execution_count": 807,
   "metadata": {},
   "outputs": [
    {
     "name": "stdout",
     "output_type": "stream",
     "text": [
      "Done\n"
     ]
    }
   ],
   "source": [
    "#Creating parameter grid\n",
    "n_estimators = [int(x) for x in np.linspace(600, stop = 900, num = 4)]\n",
    "max_depth = [int(x) for x in np.linspace(12, 16, num = 5)]\n",
    "\n",
    "params_rf = {'n_estimators': n_estimators,\n",
    "                 'max_depth': max_depth,\n",
    "                'max_features':['auto','sqrt'],\n",
    "                'min_samples_leaf':[0.005,0.0025,0.0015,0.001,0.0005],\n",
    "                'min_samples_split':[7,10,12,15,20]}\n",
    "print('Done')"
   ]
  },
  {
   "cell_type": "code",
   "execution_count": 808,
   "metadata": {},
   "outputs": [
    {
     "name": "stdout",
     "output_type": "stream",
     "text": [
      "Done\n"
     ]
    }
   ],
   "source": [
    "grid_rf = GridSearchCV(estimator=rf,\n",
    "                       param_grid=params_rf,\n",
    "                       scoring='neg_mean_squared_error',\n",
    "                       cv=4,\n",
    "                       verbose=1,\n",
    "                       n_jobs=4 )\n",
    "print('Done')"
   ]
  },
  {
   "cell_type": "code",
   "execution_count": 801,
   "metadata": {},
   "outputs": [
    {
     "name": "stdout",
     "output_type": "stream",
     "text": [
      "Fitting 4 folds for each of 1000 candidates, totalling 4000 fits\n"
     ]
    },
    {
     "name": "stderr",
     "output_type": "stream",
     "text": [
      "[Parallel(n_jobs=4)]: Using backend LokyBackend with 4 concurrent workers.\n",
      "[Parallel(n_jobs=4)]: Done  42 tasks      | elapsed:   55.1s\n",
      "[Parallel(n_jobs=4)]: Done 192 tasks      | elapsed:  4.4min\n",
      "[Parallel(n_jobs=4)]: Done 442 tasks      | elapsed: 10.2min\n",
      "[Parallel(n_jobs=4)]: Done 792 tasks      | elapsed: 13.3min\n",
      "[Parallel(n_jobs=4)]: Done 1242 tasks      | elapsed: 23.2min\n",
      "[Parallel(n_jobs=4)]: Done 1792 tasks      | elapsed: 30.8min\n",
      "[Parallel(n_jobs=4)]: Done 2442 tasks      | elapsed: 40.6min\n",
      "[Parallel(n_jobs=4)]: Done 3192 tasks      | elapsed: 53.1min\n",
      "[Parallel(n_jobs=4)]: Done 4000 out of 4000 | elapsed: 66.5min finished\n"
     ]
    },
    {
     "name": "stdout",
     "output_type": "stream",
     "text": [
      "Best hyperparameters:\n",
      " {'max_depth': 13, 'max_features': 'sqrt', 'min_samples_leaf': 0.001, 'min_samples_split': 20, 'n_estimators': 800}\n",
      "RMSE of rf: 202597.39\n",
      "MAE of rf: 123424.22\n",
      "Time needed for execution is 1.0  hours  395.57879662513733  minutes  36  seconds\n"
     ]
    }
   ],
   "source": [
    "#Training the model\n",
    "start = time.time()\n",
    "grid_rf.fit(X_train,y_train)\n",
    "print(\"Best hyperparameters:\\n\", grid_rf.best_params_)\n",
    "best_model = grid_rf.best_estimator_\n",
    "y_pred=best_model.predict(X_test)\n",
    "rmse_test = MSE(y_test,y_pred)**0.5\n",
    "mae = MAE(y_test,y_pred)\n",
    "print('RMSE of rf: {:.2f}'.format(rmse_test))\n",
    "print('MAE of rf: {:.2f}'.format(mae))\n",
    "end = time.time()\n",
    "\n",
    "display_time(start,end)"
   ]
  },
  {
   "cell_type": "code",
   "execution_count": 809,
   "metadata": {},
   "outputs": [
    {
     "name": "stdout",
     "output_type": "stream",
     "text": [
      "Success\n",
      "Fitting 4 folds for each of 100 candidates, totalling 400 fits\n"
     ]
    },
    {
     "name": "stderr",
     "output_type": "stream",
     "text": [
      "[Parallel(n_jobs=4)]: Using backend LokyBackend with 4 concurrent workers.\n",
      "[Parallel(n_jobs=4)]: Done  42 tasks      | elapsed:   43.9s\n",
      "[Parallel(n_jobs=4)]: Done 192 tasks      | elapsed:  3.3min\n",
      "[Parallel(n_jobs=4)]: Done 400 out of 400 | elapsed:  6.4min finished\n"
     ]
    },
    {
     "name": "stdout",
     "output_type": "stream",
     "text": [
      "Best hyperparameters:\n",
      " {'n_estimators': 800, 'min_samples_split': 7, 'min_samples_leaf': 0.001, 'max_features': 'sqrt', 'max_depth': 14}\n",
      "RMSE of dt: 217261.32\n",
      "MAE of dt: 137931.97\n"
     ]
    }
   ],
   "source": [
    "from sklearn.model_selection import RandomizedSearchCV\n",
    "\n",
    "randomiz_rf = RandomizedSearchCV(estimator=rf,\n",
    "                                 param_distributions=params_rf,\n",
    "                                 n_iter=100,\n",
    "                                scoring='neg_mean_squared_error',\n",
    "                                 cv=4,\n",
    "                                 verbose=1,\n",
    "                                 n_jobs=4)\n",
    "\n",
    "randomiz_rf.fit(X_train,y_train)\n",
    "print(\"Best hyperparameters:\\n\", randomiz_rf.best_params_)\n",
    "best_model = randomiz_rf.best_estimator_\n",
    "y_pred=best_model.predict(X_test)\n",
    "rmse_test = MSE(y_test,y_pred)**0.5\n",
    "mae_test = MAE(y_test,y_pred)\n",
    "print('RMSE of dt: {:.2f}'.format(rmse_test))\n",
    "print('MAE of dt: {:.2f}'.format(mae_test))"
   ]
  },
  {
   "cell_type": "code",
   "execution_count": null,
   "metadata": {},
   "outputs": [],
   "source": []
  },
  {
   "cell_type": "code",
   "execution_count": 803,
   "metadata": {},
   "outputs": [],
   "source": [
    "#Boosting with Adaboost"
   ]
  },
  {
   "cell_type": "code",
   "execution_count": 810,
   "metadata": {},
   "outputs": [],
   "source": [
    "from sklearn.ensemble import AdaBoostRegressor\n",
    "from sklearn.model_selection import RandomizedSearchCV\n",
    "dt = DecisionTreeRegressor()\n",
    "\n",
    "n_estimators = [int(x) for x in np.linspace(50,400,num=8)]\n",
    "learning_rate = [round(x,3) for x in np.logspace(0,-3,num=10)]\n",
    "param_dist = {\n",
    " 'n_estimators': n_estimators,\n",
    " 'learning_rate' : learning_rate,\n",
    " 'loss' : ['linear', 'square', 'exponential']\n",
    " }\n",
    "\n",
    "ada_rand = RandomizedSearchCV(AdaBoostRegressor(),\n",
    "                             param_distributions = param_dist,\n",
    "                              scoring='neg_mean_squared_error',\n",
    "                             cv=4,\n",
    "                              verbose=2,\n",
    "                             n_iter = 100,\n",
    "                             n_jobs=-1)\n"
   ]
  },
  {
   "cell_type": "code",
   "execution_count": 811,
   "metadata": {},
   "outputs": [
    {
     "name": "stdout",
     "output_type": "stream",
     "text": [
      "Fitting 4 folds for each of 100 candidates, totalling 400 fits\n"
     ]
    },
    {
     "name": "stderr",
     "output_type": "stream",
     "text": [
      "[Parallel(n_jobs=-1)]: Using backend LokyBackend with 8 concurrent workers.\n",
      "[Parallel(n_jobs=-1)]: Done  25 tasks      | elapsed:    7.8s\n",
      "[Parallel(n_jobs=-1)]: Done 146 tasks      | elapsed:   47.8s\n",
      "[Parallel(n_jobs=-1)]: Done 349 tasks      | elapsed:  2.0min\n",
      "[Parallel(n_jobs=-1)]: Done 400 out of 400 | elapsed:  2.2min finished\n"
     ]
    },
    {
     "name": "stdout",
     "output_type": "stream",
     "text": [
      "Best hyperparameters:\n",
      " {'n_estimators': 50, 'loss': 'square', 'learning_rate': 0.002}\n",
      "RMSE of dt: 242047.56\n",
      "MAE of dt: 160046.04\n",
      "\n",
      "\n",
      "Time needed for execution is 2.0  minutes  13  seconds\n"
     ]
    }
   ],
   "source": [
    "#fitting and determining the best estimator \n",
    "\n",
    "start = time.time()\n",
    "ada_rand.fit(X_train, y_train)\n",
    "\n",
    "print(\"Best hyperparameters:\\n\", ada_rand.best_params_)\n",
    "\n",
    "best_model = ada_rand.best_estimator_\n",
    "y_pred=best_model.predict(X_test)\n",
    "\n",
    "rmse_test = MSE(y_test,y_pred)**0.5\n",
    "mae_test = MAE(y_test,y_pred)\n",
    "\n",
    "print('RMSE of dt: {:.2f}'.format(rmse_test))\n",
    "print('MAE of dt: {:.2f}'.format(mae_test))\n",
    "\n",
    "end = time.time()\n",
    "\n",
    "print('\\n')\n",
    "display_time(start,end)"
   ]
  },
  {
   "cell_type": "code",
   "execution_count": 812,
   "metadata": {},
   "outputs": [],
   "source": [
    "from sklearn.ensemble import GradientBoostingRegressor\n",
    "gbr = GradientBoostingRegressor()\n"
   ]
  },
  {
   "cell_type": "code",
   "execution_count": 813,
   "metadata": {},
   "outputs": [],
   "source": [
    "#setting up parameter grid\n",
    "n_estimators = [int(x) for x in np.linspace(50,400,num=8)]\n",
    "learning_rate = [round(x,3) for x in np.logspace(0,-3,num=10)]\n",
    "max_depth = [int(x) for x in np.linspace(5,10,num=6)]\n",
    "\n",
    "param_grid = {'learning_rate': [0.1, 0.05, 0.02, 0.01, 0.005, 0.001],\n",
    "              'subsample':[0.7,0.8,0.9],\n",
    "              'n_estimators': n_estimators,\n",
    "              'max_depth':max_depth,\n",
    "              'max_features':['auto','sqrt'],\n",
    "              'min_samples_leaf':[0.005,0.0035,0.0025,0.0015,0.001],\n",
    "            'min_samples_split':[10,15,20,25]}"
   ]
  },
  {
   "cell_type": "code",
   "execution_count": 814,
   "metadata": {},
   "outputs": [],
   "source": [
    "rand_gbr = RandomizedSearchCV(estimator=gbr,\n",
    "                             param_distributions=param_grid,\n",
    "                             scoring='neg_mean_squared_error',\n",
    "                             cv=4,\n",
    "                              verbose=2,\n",
    "                             n_iter = 1000,\n",
    "                             n_jobs=4)"
   ]
  },
  {
   "cell_type": "code",
   "execution_count": 815,
   "metadata": {},
   "outputs": [
    {
     "name": "stdout",
     "output_type": "stream",
     "text": [
      "Fitting 4 folds for each of 1000 candidates, totalling 4000 fits\n"
     ]
    },
    {
     "name": "stderr",
     "output_type": "stream",
     "text": [
      "[Parallel(n_jobs=4)]: Using backend LokyBackend with 4 concurrent workers.\n",
      "[Parallel(n_jobs=4)]: Done  33 tasks      | elapsed:    7.8s\n",
      "[Parallel(n_jobs=4)]: Done 154 tasks      | elapsed:   34.7s\n",
      "[Parallel(n_jobs=4)]: Done 357 tasks      | elapsed:  1.4min\n",
      "[Parallel(n_jobs=4)]: Done 640 tasks      | elapsed:  2.6min\n",
      "[Parallel(n_jobs=4)]: Done 1005 tasks      | elapsed:  3.9min\n",
      "[Parallel(n_jobs=4)]: Done 1450 tasks      | elapsed:  5.4min\n",
      "[Parallel(n_jobs=4)]: Done 1977 tasks      | elapsed:  7.5min\n",
      "[Parallel(n_jobs=4)]: Done 2584 tasks      | elapsed:  9.8min\n",
      "[Parallel(n_jobs=4)]: Done 3273 tasks      | elapsed: 12.4min\n",
      "[Parallel(n_jobs=4)]: Done 4000 out of 4000 | elapsed: 15.2min finished\n"
     ]
    },
    {
     "name": "stdout",
     "output_type": "stream",
     "text": [
      "Best hyperparameters:\n",
      " {'subsample': 0.7, 'n_estimators': 100, 'min_samples_split': 25, 'min_samples_leaf': 0.001, 'max_features': 'sqrt', 'max_depth': 8, 'learning_rate': 0.05}\n",
      "RMSE of dt: 219237.86\n",
      "MAE of dt: 135039.67\n",
      "\n",
      "\n",
      "Time needed for execution is 15.0  minutes  12  seconds\n"
     ]
    }
   ],
   "source": [
    "start = time.time()\n",
    "rand_gbr.fit(X_train, y_train)\n",
    "\n",
    "print(\"Best hyperparameters:\\n\", rand_gbr.best_params_)\n",
    "\n",
    "best_model = rand_gbr.best_estimator_\n",
    "y_pred=best_model.predict(X_test)\n",
    "\n",
    "rmse_test = MSE(y_test,y_pred)**0.5\n",
    "mae_test = MAE(y_test,y_pred)\n",
    "\n",
    "print('RMSE of dt: {:.2f}'.format(rmse_test))\n",
    "print('MAE of dt: {:.2f}'.format(mae_test))\n",
    "\n",
    "end = time.time()\n",
    "\n",
    "print('\\n')\n",
    "display_time(start,end)"
   ]
  },
  {
   "cell_type": "code",
   "execution_count": 838,
   "metadata": {},
   "outputs": [],
   "source": [
    "n_estimators = [int(x) for x in np.linspace(300,500,num=5)]\n",
    "\n",
    "\n",
    "param_grid = {'learning_rate': [0.02,0.015,0.01,0.005,0.001],\n",
    "              'n_estimators':n_estimators,\n",
    "              'subsample':[0.7,0.8,0.9],\n",
    "              'max_depth':[7,8,9],\n",
    "              'max_features':['auto','sqrt'],\n",
    "              'min_samples_leaf':[0.004,0.0035,0.003,0.0025,0.0015],\n",
    "            'min_samples_split':[7,10,15,20,25]}"
   ]
  },
  {
   "cell_type": "code",
   "execution_count": 839,
   "metadata": {},
   "outputs": [],
   "source": [
    "grid_gbr = GridSearchCV(estimator=gbr,\n",
    "                       param_grid=param_grid,\n",
    "                       cv=4,\n",
    "                        scoring='neg_mean_squared_error',\n",
    "                       verbose = 1,\n",
    "                       n_jobs = 6,\n",
    "                       )"
   ]
  },
  {
   "cell_type": "code",
   "execution_count": null,
   "metadata": {},
   "outputs": [
    {
     "name": "stdout",
     "output_type": "stream",
     "text": [
      "Fitting 4 folds for each of 11250 candidates, totalling 45000 fits\n"
     ]
    },
    {
     "name": "stderr",
     "output_type": "stream",
     "text": [
      "[Parallel(n_jobs=6)]: Using backend LokyBackend with 6 concurrent workers.\n",
      "[Parallel(n_jobs=6)]: Done  38 tasks      | elapsed:   16.8s\n",
      "[Parallel(n_jobs=6)]: Done 188 tasks      | elapsed:  1.2min\n",
      "[Parallel(n_jobs=6)]: Done 438 tasks      | elapsed:  2.6min\n",
      "[Parallel(n_jobs=6)]: Done 788 tasks      | elapsed:  4.7min\n",
      "[Parallel(n_jobs=6)]: Done 1238 tasks      | elapsed:  7.5min\n",
      "[Parallel(n_jobs=6)]: Done 1788 tasks      | elapsed:  9.9min\n",
      "[Parallel(n_jobs=6)]: Done 2438 tasks      | elapsed: 11.7min\n",
      "[Parallel(n_jobs=6)]: Done 3188 tasks      | elapsed: 14.5min\n",
      "[Parallel(n_jobs=6)]: Done 4038 tasks      | elapsed: 20.3min\n",
      "[Parallel(n_jobs=6)]: Done 4988 tasks      | elapsed: 25.1min\n",
      "[Parallel(n_jobs=6)]: Done 6038 tasks      | elapsed: 28.5min\n",
      "[Parallel(n_jobs=6)]: Done 7188 tasks      | elapsed: 37.4min\n",
      "[Parallel(n_jobs=6)]: Done 8438 tasks      | elapsed: 43.1min\n",
      "[Parallel(n_jobs=6)]: Done 9788 tasks      | elapsed: 50.0min\n"
     ]
    }
   ],
   "source": [
    "start = time.time()\n",
    "grid_gbr.fit(X_train, y_train)\n",
    "\n",
    "print(\"Best hyperparameters:\\n\", grid_gbr.best_params_)\n",
    "\n",
    "best_model = grid_gbr.best_estimator_\n",
    "y_pred=best_model.predict(X_test)\n",
    "\n",
    "rmse_test = MSE(y_test,y_pred)**0.5\n",
    "mae_test = MAE(y_test,y_pred)\n",
    "\n",
    "print('RMSE of dt: {:.2f}'.format(rmse_test))\n",
    "print('MAE of dt: {:.2f}'.format(mae_test))\n",
    "\n",
    "end = time.time()\n",
    "\n",
    "print('\\n')\n",
    "display_time(start,end)"
   ]
  },
  {
   "cell_type": "code",
   "execution_count": 813,
   "metadata": {},
   "outputs": [
    {
     "data": {
      "text/plain": [
       "'May 06, 2020 03:00:50'"
      ]
     },
     "execution_count": 813,
     "metadata": {},
     "output_type": "execute_result"
    }
   ],
   "source": [
    "end= time.time()\n",
    "datetime.fromtimestamp(end).strftime(\"%B %d, %Y %I:%M:%S\")"
   ]
  }
 ],
 "metadata": {
  "kernelspec": {
   "display_name": "Python 3",
   "language": "python",
   "name": "python3"
  },
  "language_info": {
   "codemirror_mode": {
    "name": "ipython",
    "version": 3
   },
   "file_extension": ".py",
   "mimetype": "text/x-python",
   "name": "python",
   "nbconvert_exporter": "python",
   "pygments_lexer": "ipython3",
   "version": "3.7.4"
  }
 },
 "nbformat": 4,
 "nbformat_minor": 2
}
